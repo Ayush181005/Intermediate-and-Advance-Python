{
 "cells": [
  {
   "cell_type": "markdown",
   "metadata": {},
   "source": [
    "# Welcome to Jupyter Notebook for Pandas"
   ]
  },
  {
   "cell_type": "code",
   "execution_count": 1,
   "metadata": {},
   "outputs": [],
   "source": [
    "import numpy as np\n",
    "import pandas as pd"
   ]
  },
  {
   "cell_type": "markdown",
   "metadata": {},
   "source": [
    "## Quick Overview:-"
   ]
  },
  {
   "cell_type": "code",
   "execution_count": 2,
   "metadata": {},
   "outputs": [],
   "source": [
    "dict1 = {\n",
    "    \"Name\":['Ayush', 'Maanit', 'Jaimit', 'Shrey'],\n",
    "    \"Marks\":[25, 23, 22, 24],\n",
    "    \"City\":['Ahmedabad', 'Delhi', 'Hyedrabad', 'Chicago']\n",
    "}"
   ]
  },
  {
   "cell_type": "code",
   "execution_count": 3,
   "metadata": {},
   "outputs": [],
   "source": [
    "df = pd.DataFrame(dict1) # It will make a data frame of this, like an excell sheet"
   ]
  },
  {
   "cell_type": "code",
   "execution_count": 4,
   "metadata": {},
   "outputs": [
    {
     "data": {
      "text/html": [
       "<div>\n",
       "<style scoped>\n",
       "    .dataframe tbody tr th:only-of-type {\n",
       "        vertical-align: middle;\n",
       "    }\n",
       "\n",
       "    .dataframe tbody tr th {\n",
       "        vertical-align: top;\n",
       "    }\n",
       "\n",
       "    .dataframe thead th {\n",
       "        text-align: right;\n",
       "    }\n",
       "</style>\n",
       "<table border=\"1\" class=\"dataframe\">\n",
       "  <thead>\n",
       "    <tr style=\"text-align: right;\">\n",
       "      <th></th>\n",
       "      <th>Name</th>\n",
       "      <th>Marks</th>\n",
       "      <th>City</th>\n",
       "    </tr>\n",
       "  </thead>\n",
       "  <tbody>\n",
       "    <tr>\n",
       "      <th>0</th>\n",
       "      <td>Ayush</td>\n",
       "      <td>25</td>\n",
       "      <td>Ahmedabad</td>\n",
       "    </tr>\n",
       "    <tr>\n",
       "      <th>1</th>\n",
       "      <td>Maanit</td>\n",
       "      <td>23</td>\n",
       "      <td>Delhi</td>\n",
       "    </tr>\n",
       "    <tr>\n",
       "      <th>2</th>\n",
       "      <td>Jaimit</td>\n",
       "      <td>22</td>\n",
       "      <td>Hyedrabad</td>\n",
       "    </tr>\n",
       "    <tr>\n",
       "      <th>3</th>\n",
       "      <td>Shrey</td>\n",
       "      <td>24</td>\n",
       "      <td>Chicago</td>\n",
       "    </tr>\n",
       "  </tbody>\n",
       "</table>\n",
       "</div>"
      ],
      "text/plain": [
       "     Name  Marks       City\n",
       "0   Ayush     25  Ahmedabad\n",
       "1  Maanit     23      Delhi\n",
       "2  Jaimit     22  Hyedrabad\n",
       "3   Shrey     24    Chicago"
      ]
     },
     "execution_count": 4,
     "metadata": {},
     "output_type": "execute_result"
    }
   ],
   "source": [
    "df"
   ]
  },
  {
   "cell_type": "code",
   "execution_count": 5,
   "metadata": {},
   "outputs": [],
   "source": [
    "df.to_csv('Friends.csv') # This will export the dictionary to an excel sheet, you'll get this in your folder"
   ]
  },
  {
   "cell_type": "code",
   "execution_count": 6,
   "metadata": {},
   "outputs": [],
   "source": [
    "df.to_csv('Friends_WithoutIndexes.csv', index=False) # This will not print the indexes of elements in the csv file"
   ]
  },
  {
   "cell_type": "code",
   "execution_count": 7,
   "metadata": {},
   "outputs": [
    {
     "data": {
      "text/html": [
       "<div>\n",
       "<style scoped>\n",
       "    .dataframe tbody tr th:only-of-type {\n",
       "        vertical-align: middle;\n",
       "    }\n",
       "\n",
       "    .dataframe tbody tr th {\n",
       "        vertical-align: top;\n",
       "    }\n",
       "\n",
       "    .dataframe thead th {\n",
       "        text-align: right;\n",
       "    }\n",
       "</style>\n",
       "<table border=\"1\" class=\"dataframe\">\n",
       "  <thead>\n",
       "    <tr style=\"text-align: right;\">\n",
       "      <th></th>\n",
       "      <th>Name</th>\n",
       "      <th>Marks</th>\n",
       "      <th>City</th>\n",
       "    </tr>\n",
       "  </thead>\n",
       "  <tbody>\n",
       "    <tr>\n",
       "      <th>0</th>\n",
       "      <td>Ayush</td>\n",
       "      <td>25</td>\n",
       "      <td>Ahmedabad</td>\n",
       "    </tr>\n",
       "    <tr>\n",
       "      <th>1</th>\n",
       "      <td>Maanit</td>\n",
       "      <td>23</td>\n",
       "      <td>Delhi</td>\n",
       "    </tr>\n",
       "  </tbody>\n",
       "</table>\n",
       "</div>"
      ],
      "text/plain": [
       "     Name  Marks       City\n",
       "0   Ayush     25  Ahmedabad\n",
       "1  Maanit     23      Delhi"
      ]
     },
     "execution_count": 7,
     "metadata": {},
     "output_type": "execute_result"
    }
   ],
   "source": [
    "df.head(2) # This will only show 2 rows from up"
   ]
  },
  {
   "cell_type": "code",
   "execution_count": 8,
   "metadata": {},
   "outputs": [
    {
     "data": {
      "text/html": [
       "<div>\n",
       "<style scoped>\n",
       "    .dataframe tbody tr th:only-of-type {\n",
       "        vertical-align: middle;\n",
       "    }\n",
       "\n",
       "    .dataframe tbody tr th {\n",
       "        vertical-align: top;\n",
       "    }\n",
       "\n",
       "    .dataframe thead th {\n",
       "        text-align: right;\n",
       "    }\n",
       "</style>\n",
       "<table border=\"1\" class=\"dataframe\">\n",
       "  <thead>\n",
       "    <tr style=\"text-align: right;\">\n",
       "      <th></th>\n",
       "      <th>Name</th>\n",
       "      <th>Marks</th>\n",
       "      <th>City</th>\n",
       "    </tr>\n",
       "  </thead>\n",
       "  <tbody>\n",
       "    <tr>\n",
       "      <th>2</th>\n",
       "      <td>Jaimit</td>\n",
       "      <td>22</td>\n",
       "      <td>Hyedrabad</td>\n",
       "    </tr>\n",
       "    <tr>\n",
       "      <th>3</th>\n",
       "      <td>Shrey</td>\n",
       "      <td>24</td>\n",
       "      <td>Chicago</td>\n",
       "    </tr>\n",
       "  </tbody>\n",
       "</table>\n",
       "</div>"
      ],
      "text/plain": [
       "     Name  Marks       City\n",
       "2  Jaimit     22  Hyedrabad\n",
       "3   Shrey     24    Chicago"
      ]
     },
     "execution_count": 8,
     "metadata": {},
     "output_type": "execute_result"
    }
   ],
   "source": [
    "df.tail(2) # This will only show 2 rows from down"
   ]
  },
  {
   "cell_type": "code",
   "execution_count": 9,
   "metadata": {},
   "outputs": [
    {
     "data": {
      "text/html": [
       "<div>\n",
       "<style scoped>\n",
       "    .dataframe tbody tr th:only-of-type {\n",
       "        vertical-align: middle;\n",
       "    }\n",
       "\n",
       "    .dataframe tbody tr th {\n",
       "        vertical-align: top;\n",
       "    }\n",
       "\n",
       "    .dataframe thead th {\n",
       "        text-align: right;\n",
       "    }\n",
       "</style>\n",
       "<table border=\"1\" class=\"dataframe\">\n",
       "  <thead>\n",
       "    <tr style=\"text-align: right;\">\n",
       "      <th></th>\n",
       "      <th>Marks</th>\n",
       "    </tr>\n",
       "  </thead>\n",
       "  <tbody>\n",
       "    <tr>\n",
       "      <th>count</th>\n",
       "      <td>4.000000</td>\n",
       "    </tr>\n",
       "    <tr>\n",
       "      <th>mean</th>\n",
       "      <td>23.500000</td>\n",
       "    </tr>\n",
       "    <tr>\n",
       "      <th>std</th>\n",
       "      <td>1.290994</td>\n",
       "    </tr>\n",
       "    <tr>\n",
       "      <th>min</th>\n",
       "      <td>22.000000</td>\n",
       "    </tr>\n",
       "    <tr>\n",
       "      <th>25%</th>\n",
       "      <td>22.750000</td>\n",
       "    </tr>\n",
       "    <tr>\n",
       "      <th>50%</th>\n",
       "      <td>23.500000</td>\n",
       "    </tr>\n",
       "    <tr>\n",
       "      <th>75%</th>\n",
       "      <td>24.250000</td>\n",
       "    </tr>\n",
       "    <tr>\n",
       "      <th>max</th>\n",
       "      <td>25.000000</td>\n",
       "    </tr>\n",
       "  </tbody>\n",
       "</table>\n",
       "</div>"
      ],
      "text/plain": [
       "           Marks\n",
       "count   4.000000\n",
       "mean   23.500000\n",
       "std     1.290994\n",
       "min    22.000000\n",
       "25%    22.750000\n",
       "50%    23.500000\n",
       "75%    24.250000\n",
       "max    25.000000"
      ]
     },
     "execution_count": 9,
     "metadata": {},
     "output_type": "execute_result"
    }
   ],
   "source": [
    "df.describe() # This will show statistics about the numeric columns, like count, mean, minimum, maximum, etc."
   ]
  },
  {
   "cell_type": "code",
   "execution_count": 10,
   "metadata": {},
   "outputs": [],
   "source": [
    "readCSV = pd.read_csv('Friends.csv') # This will open any csv file and read it here, you can also read a file made in the folder\n",
    "                                     # in the device"
   ]
  },
  {
   "cell_type": "code",
   "execution_count": 11,
   "metadata": {},
   "outputs": [
    {
     "data": {
      "text/html": [
       "<div>\n",
       "<style scoped>\n",
       "    .dataframe tbody tr th:only-of-type {\n",
       "        vertical-align: middle;\n",
       "    }\n",
       "\n",
       "    .dataframe tbody tr th {\n",
       "        vertical-align: top;\n",
       "    }\n",
       "\n",
       "    .dataframe thead th {\n",
       "        text-align: right;\n",
       "    }\n",
       "</style>\n",
       "<table border=\"1\" class=\"dataframe\">\n",
       "  <thead>\n",
       "    <tr style=\"text-align: right;\">\n",
       "      <th></th>\n",
       "      <th>Unnamed: 0</th>\n",
       "      <th>Name</th>\n",
       "      <th>Marks</th>\n",
       "      <th>City</th>\n",
       "    </tr>\n",
       "  </thead>\n",
       "  <tbody>\n",
       "    <tr>\n",
       "      <th>0</th>\n",
       "      <td>0</td>\n",
       "      <td>Ayush</td>\n",
       "      <td>25</td>\n",
       "      <td>Ahmedabad</td>\n",
       "    </tr>\n",
       "    <tr>\n",
       "      <th>1</th>\n",
       "      <td>1</td>\n",
       "      <td>Maanit</td>\n",
       "      <td>23</td>\n",
       "      <td>Delhi</td>\n",
       "    </tr>\n",
       "    <tr>\n",
       "      <th>2</th>\n",
       "      <td>2</td>\n",
       "      <td>Jaimit</td>\n",
       "      <td>22</td>\n",
       "      <td>Hyedrabad</td>\n",
       "    </tr>\n",
       "    <tr>\n",
       "      <th>3</th>\n",
       "      <td>3</td>\n",
       "      <td>Shrey</td>\n",
       "      <td>24</td>\n",
       "      <td>Chicago</td>\n",
       "    </tr>\n",
       "  </tbody>\n",
       "</table>\n",
       "</div>"
      ],
      "text/plain": [
       "   Unnamed: 0    Name  Marks       City\n",
       "0           0   Ayush     25  Ahmedabad\n",
       "1           1  Maanit     23      Delhi\n",
       "2           2  Jaimit     22  Hyedrabad\n",
       "3           3   Shrey     24    Chicago"
      ]
     },
     "execution_count": 11,
     "metadata": {},
     "output_type": "execute_result"
    }
   ],
   "source": [
    "readCSV # In this, it is adding index numbers one more time"
   ]
  },
  {
   "cell_type": "code",
   "execution_count": 12,
   "metadata": {},
   "outputs": [],
   "source": [
    "readCSV_withoutIndex = pd.read_csv('Friends_WithoutIndexes.csv') # If we write the same name of the csv file as the name in the\n",
    "                                                                 # folder, it will overwrite the file"
   ]
  },
  {
   "cell_type": "code",
   "execution_count": 13,
   "metadata": {},
   "outputs": [
    {
     "data": {
      "text/html": [
       "<div>\n",
       "<style scoped>\n",
       "    .dataframe tbody tr th:only-of-type {\n",
       "        vertical-align: middle;\n",
       "    }\n",
       "\n",
       "    .dataframe tbody tr th {\n",
       "        vertical-align: top;\n",
       "    }\n",
       "\n",
       "    .dataframe thead th {\n",
       "        text-align: right;\n",
       "    }\n",
       "</style>\n",
       "<table border=\"1\" class=\"dataframe\">\n",
       "  <thead>\n",
       "    <tr style=\"text-align: right;\">\n",
       "      <th></th>\n",
       "      <th>Name</th>\n",
       "      <th>Marks</th>\n",
       "      <th>City</th>\n",
       "    </tr>\n",
       "  </thead>\n",
       "  <tbody>\n",
       "    <tr>\n",
       "      <th>0</th>\n",
       "      <td>Ayush</td>\n",
       "      <td>25</td>\n",
       "      <td>Ahmedabad</td>\n",
       "    </tr>\n",
       "    <tr>\n",
       "      <th>1</th>\n",
       "      <td>Maanit</td>\n",
       "      <td>23</td>\n",
       "      <td>Delhi</td>\n",
       "    </tr>\n",
       "    <tr>\n",
       "      <th>2</th>\n",
       "      <td>Jaimit</td>\n",
       "      <td>22</td>\n",
       "      <td>Hyedrabad</td>\n",
       "    </tr>\n",
       "    <tr>\n",
       "      <th>3</th>\n",
       "      <td>Shrey</td>\n",
       "      <td>24</td>\n",
       "      <td>Chicago</td>\n",
       "    </tr>\n",
       "  </tbody>\n",
       "</table>\n",
       "</div>"
      ],
      "text/plain": [
       "     Name  Marks       City\n",
       "0   Ayush     25  Ahmedabad\n",
       "1  Maanit     23      Delhi\n",
       "2  Jaimit     22  Hyedrabad\n",
       "3   Shrey     24    Chicago"
      ]
     },
     "execution_count": 13,
     "metadata": {},
     "output_type": "execute_result"
    }
   ],
   "source": [
    "readCSV_withoutIndex"
   ]
  },
  {
   "cell_type": "code",
   "execution_count": 14,
   "metadata": {},
   "outputs": [
    {
     "data": {
      "text/plain": [
       "0    25\n",
       "1    23\n",
       "2    22\n",
       "3    24\n",
       "Name: Marks, dtype: int64"
      ]
     },
     "execution_count": 14,
     "metadata": {},
     "output_type": "execute_result"
    }
   ],
   "source": [
    "readCSV['Marks'] # This will just give info of one column"
   ]
  },
  {
   "cell_type": "code",
   "execution_count": 15,
   "metadata": {},
   "outputs": [
    {
     "data": {
      "text/plain": [
       "24"
      ]
     },
     "execution_count": 15,
     "metadata": {},
     "output_type": "execute_result"
    }
   ],
   "source": [
    "readCSV['Marks'][3] # With Index"
   ]
  },
  {
   "cell_type": "code",
   "execution_count": 16,
   "metadata": {},
   "outputs": [
    {
     "name": "stderr",
     "output_type": "stream",
     "text": [
      "<ipython-input-16-9556d9dd1d34>:1: SettingWithCopyWarning: \n",
      "A value is trying to be set on a copy of a slice from a DataFrame\n",
      "\n",
      "See the caveats in the documentation: https://pandas.pydata.org/pandas-docs/stable/user_guide/indexing.html#returning-a-view-versus-a-copy\n",
      "  readCSV['Marks'][3] = 23   # This will change the value at that index, the warning will say that this is not a good method to\n"
     ]
    }
   ],
   "source": [
    "readCSV['Marks'][3] = 23   # This will change the value at that index, the warning will say that this is not a good method to \n",
    "                           # change the value, but it will work"
   ]
  },
  {
   "cell_type": "code",
   "execution_count": 17,
   "metadata": {
    "scrolled": true
   },
   "outputs": [
    {
     "data": {
      "text/html": [
       "<div>\n",
       "<style scoped>\n",
       "    .dataframe tbody tr th:only-of-type {\n",
       "        vertical-align: middle;\n",
       "    }\n",
       "\n",
       "    .dataframe tbody tr th {\n",
       "        vertical-align: top;\n",
       "    }\n",
       "\n",
       "    .dataframe thead th {\n",
       "        text-align: right;\n",
       "    }\n",
       "</style>\n",
       "<table border=\"1\" class=\"dataframe\">\n",
       "  <thead>\n",
       "    <tr style=\"text-align: right;\">\n",
       "      <th></th>\n",
       "      <th>Unnamed: 0</th>\n",
       "      <th>Name</th>\n",
       "      <th>Marks</th>\n",
       "      <th>City</th>\n",
       "    </tr>\n",
       "  </thead>\n",
       "  <tbody>\n",
       "    <tr>\n",
       "      <th>0</th>\n",
       "      <td>0</td>\n",
       "      <td>Ayush</td>\n",
       "      <td>25</td>\n",
       "      <td>Ahmedabad</td>\n",
       "    </tr>\n",
       "    <tr>\n",
       "      <th>1</th>\n",
       "      <td>1</td>\n",
       "      <td>Maanit</td>\n",
       "      <td>23</td>\n",
       "      <td>Delhi</td>\n",
       "    </tr>\n",
       "    <tr>\n",
       "      <th>2</th>\n",
       "      <td>2</td>\n",
       "      <td>Jaimit</td>\n",
       "      <td>22</td>\n",
       "      <td>Hyedrabad</td>\n",
       "    </tr>\n",
       "    <tr>\n",
       "      <th>3</th>\n",
       "      <td>3</td>\n",
       "      <td>Shrey</td>\n",
       "      <td>23</td>\n",
       "      <td>Chicago</td>\n",
       "    </tr>\n",
       "  </tbody>\n",
       "</table>\n",
       "</div>"
      ],
      "text/plain": [
       "   Unnamed: 0    Name  Marks       City\n",
       "0           0   Ayush     25  Ahmedabad\n",
       "1           1  Maanit     23      Delhi\n",
       "2           2  Jaimit     22  Hyedrabad\n",
       "3           3   Shrey     23    Chicago"
      ]
     },
     "execution_count": 17,
     "metadata": {},
     "output_type": "execute_result"
    }
   ],
   "source": [
    "readCSV # The value is changed"
   ]
  },
  {
   "cell_type": "code",
   "execution_count": 18,
   "metadata": {},
   "outputs": [],
   "source": [
    "readCSV.index = ['one', 'two', 'three', 'four'] # This will change the index names"
   ]
  },
  {
   "cell_type": "code",
   "execution_count": 19,
   "metadata": {},
   "outputs": [
    {
     "data": {
      "text/html": [
       "<div>\n",
       "<style scoped>\n",
       "    .dataframe tbody tr th:only-of-type {\n",
       "        vertical-align: middle;\n",
       "    }\n",
       "\n",
       "    .dataframe tbody tr th {\n",
       "        vertical-align: top;\n",
       "    }\n",
       "\n",
       "    .dataframe thead th {\n",
       "        text-align: right;\n",
       "    }\n",
       "</style>\n",
       "<table border=\"1\" class=\"dataframe\">\n",
       "  <thead>\n",
       "    <tr style=\"text-align: right;\">\n",
       "      <th></th>\n",
       "      <th>Unnamed: 0</th>\n",
       "      <th>Name</th>\n",
       "      <th>Marks</th>\n",
       "      <th>City</th>\n",
       "    </tr>\n",
       "  </thead>\n",
       "  <tbody>\n",
       "    <tr>\n",
       "      <th>one</th>\n",
       "      <td>0</td>\n",
       "      <td>Ayush</td>\n",
       "      <td>25</td>\n",
       "      <td>Ahmedabad</td>\n",
       "    </tr>\n",
       "    <tr>\n",
       "      <th>two</th>\n",
       "      <td>1</td>\n",
       "      <td>Maanit</td>\n",
       "      <td>23</td>\n",
       "      <td>Delhi</td>\n",
       "    </tr>\n",
       "    <tr>\n",
       "      <th>three</th>\n",
       "      <td>2</td>\n",
       "      <td>Jaimit</td>\n",
       "      <td>22</td>\n",
       "      <td>Hyedrabad</td>\n",
       "    </tr>\n",
       "    <tr>\n",
       "      <th>four</th>\n",
       "      <td>3</td>\n",
       "      <td>Shrey</td>\n",
       "      <td>23</td>\n",
       "      <td>Chicago</td>\n",
       "    </tr>\n",
       "  </tbody>\n",
       "</table>\n",
       "</div>"
      ],
      "text/plain": [
       "       Unnamed: 0    Name  Marks       City\n",
       "one             0   Ayush     25  Ahmedabad\n",
       "two             1  Maanit     23      Delhi\n",
       "three           2  Jaimit     22  Hyedrabad\n",
       "four            3   Shrey     23    Chicago"
      ]
     },
     "execution_count": 19,
     "metadata": {},
     "output_type": "execute_result"
    }
   ],
   "source": [
    "readCSV"
   ]
  },
  {
   "cell_type": "markdown",
   "metadata": {},
   "source": [
    "## In depth of Pandas:-"
   ]
  },
  {
   "cell_type": "markdown",
   "metadata": {},
   "source": [
    "##### Series - It's a one dimensional arrat with indexes, it stores a single column or row of a similar type of data in a Dataframe\n",
    "##### Dataframe - It's a tabular spreadsheet like structure representing rows each of which contains one or more columns"
   ]
  },
  {
   "cell_type": "code",
   "execution_count": 20,
   "metadata": {},
   "outputs": [],
   "source": [
    "ser = pd.Series(np.random.rand(34))"
   ]
  },
  {
   "cell_type": "code",
   "execution_count": 21,
   "metadata": {},
   "outputs": [
    {
     "data": {
      "text/plain": [
       "0     0.102862\n",
       "1     0.203018\n",
       "2     0.398786\n",
       "3     0.849372\n",
       "4     0.281562\n",
       "5     0.884777\n",
       "6     0.638849\n",
       "7     0.348357\n",
       "8     0.751115\n",
       "9     0.366289\n",
       "10    0.715708\n",
       "11    0.937307\n",
       "12    0.067403\n",
       "13    0.917728\n",
       "14    0.941262\n",
       "15    0.568376\n",
       "16    0.364722\n",
       "17    0.745244\n",
       "18    0.033716\n",
       "19    0.625772\n",
       "20    0.004951\n",
       "21    0.921409\n",
       "22    0.304587\n",
       "23    0.226923\n",
       "24    0.472555\n",
       "25    0.645787\n",
       "26    0.991746\n",
       "27    0.818910\n",
       "28    0.191303\n",
       "29    0.172000\n",
       "30    0.582288\n",
       "31    0.449906\n",
       "32    0.744565\n",
       "33    0.871311\n",
       "dtype: float64"
      ]
     },
     "execution_count": 21,
     "metadata": {},
     "output_type": "execute_result"
    }
   ],
   "source": [
    "ser"
   ]
  },
  {
   "cell_type": "code",
   "execution_count": 22,
   "metadata": {},
   "outputs": [
    {
     "data": {
      "text/plain": [
       "pandas.core.series.Series"
      ]
     },
     "execution_count": 22,
     "metadata": {},
     "output_type": "execute_result"
    }
   ],
   "source": [
    "type(ser)    # It is a series"
   ]
  },
  {
   "cell_type": "code",
   "execution_count": 23,
   "metadata": {},
   "outputs": [],
   "source": [
    "newdf = pd.DataFrame(np.random.rand(334, 5), index=np.arange(334)) # 334 rows and 5 columns"
   ]
  },
  {
   "cell_type": "code",
   "execution_count": 24,
   "metadata": {},
   "outputs": [
    {
     "data": {
      "text/html": [
       "<div>\n",
       "<style scoped>\n",
       "    .dataframe tbody tr th:only-of-type {\n",
       "        vertical-align: middle;\n",
       "    }\n",
       "\n",
       "    .dataframe tbody tr th {\n",
       "        vertical-align: top;\n",
       "    }\n",
       "\n",
       "    .dataframe thead th {\n",
       "        text-align: right;\n",
       "    }\n",
       "</style>\n",
       "<table border=\"1\" class=\"dataframe\">\n",
       "  <thead>\n",
       "    <tr style=\"text-align: right;\">\n",
       "      <th></th>\n",
       "      <th>0</th>\n",
       "      <th>1</th>\n",
       "      <th>2</th>\n",
       "      <th>3</th>\n",
       "      <th>4</th>\n",
       "    </tr>\n",
       "  </thead>\n",
       "  <tbody>\n",
       "    <tr>\n",
       "      <th>0</th>\n",
       "      <td>0.125482</td>\n",
       "      <td>0.098898</td>\n",
       "      <td>0.799468</td>\n",
       "      <td>0.445330</td>\n",
       "      <td>0.125610</td>\n",
       "    </tr>\n",
       "    <tr>\n",
       "      <th>1</th>\n",
       "      <td>0.196192</td>\n",
       "      <td>0.257675</td>\n",
       "      <td>0.466249</td>\n",
       "      <td>0.370161</td>\n",
       "      <td>0.216306</td>\n",
       "    </tr>\n",
       "    <tr>\n",
       "      <th>2</th>\n",
       "      <td>0.939180</td>\n",
       "      <td>0.854923</td>\n",
       "      <td>0.747695</td>\n",
       "      <td>0.284269</td>\n",
       "      <td>0.593235</td>\n",
       "    </tr>\n",
       "    <tr>\n",
       "      <th>3</th>\n",
       "      <td>0.720312</td>\n",
       "      <td>0.095186</td>\n",
       "      <td>0.469506</td>\n",
       "      <td>0.764790</td>\n",
       "      <td>0.824789</td>\n",
       "    </tr>\n",
       "    <tr>\n",
       "      <th>4</th>\n",
       "      <td>0.814585</td>\n",
       "      <td>0.167799</td>\n",
       "      <td>0.226230</td>\n",
       "      <td>0.310206</td>\n",
       "      <td>0.776482</td>\n",
       "    </tr>\n",
       "  </tbody>\n",
       "</table>\n",
       "</div>"
      ],
      "text/plain": [
       "          0         1         2         3         4\n",
       "0  0.125482  0.098898  0.799468  0.445330  0.125610\n",
       "1  0.196192  0.257675  0.466249  0.370161  0.216306\n",
       "2  0.939180  0.854923  0.747695  0.284269  0.593235\n",
       "3  0.720312  0.095186  0.469506  0.764790  0.824789\n",
       "4  0.814585  0.167799  0.226230  0.310206  0.776482"
      ]
     },
     "execution_count": 24,
     "metadata": {},
     "output_type": "execute_result"
    }
   ],
   "source": [
    "newdf.head()"
   ]
  },
  {
   "cell_type": "code",
   "execution_count": 25,
   "metadata": {},
   "outputs": [
    {
     "data": {
      "text/plain": [
       "pandas.core.frame.DataFrame"
      ]
     },
     "execution_count": 25,
     "metadata": {},
     "output_type": "execute_result"
    }
   ],
   "source": [
    "type(newdf)"
   ]
  },
  {
   "cell_type": "code",
   "execution_count": 26,
   "metadata": {},
   "outputs": [
    {
     "data": {
      "text/plain": [
       "0    float64\n",
       "1    float64\n",
       "2    float64\n",
       "3    float64\n",
       "4    float64\n",
       "dtype: object"
      ]
     },
     "execution_count": 26,
     "metadata": {},
     "output_type": "execute_result"
    }
   ],
   "source": [
    "newdf.dtypes"
   ]
  },
  {
   "cell_type": "code",
   "execution_count": 27,
   "metadata": {},
   "outputs": [],
   "source": [
    "newdf[0][0] = \"String\""
   ]
  },
  {
   "cell_type": "code",
   "execution_count": 28,
   "metadata": {},
   "outputs": [
    {
     "data": {
      "text/plain": [
       "0     object\n",
       "1    float64\n",
       "2    float64\n",
       "3    float64\n",
       "4    float64\n",
       "dtype: object"
      ]
     },
     "execution_count": 28,
     "metadata": {},
     "output_type": "execute_result"
    }
   ],
   "source": [
    "newdf.dtypes # Now, the data type of the first column is object because a string is there"
   ]
  },
  {
   "cell_type": "code",
   "execution_count": 29,
   "metadata": {},
   "outputs": [
    {
     "data": {
      "text/html": [
       "<div>\n",
       "<style scoped>\n",
       "    .dataframe tbody tr th:only-of-type {\n",
       "        vertical-align: middle;\n",
       "    }\n",
       "\n",
       "    .dataframe tbody tr th {\n",
       "        vertical-align: top;\n",
       "    }\n",
       "\n",
       "    .dataframe thead th {\n",
       "        text-align: right;\n",
       "    }\n",
       "</style>\n",
       "<table border=\"1\" class=\"dataframe\">\n",
       "  <thead>\n",
       "    <tr style=\"text-align: right;\">\n",
       "      <th></th>\n",
       "      <th>0</th>\n",
       "      <th>1</th>\n",
       "      <th>2</th>\n",
       "      <th>3</th>\n",
       "      <th>4</th>\n",
       "    </tr>\n",
       "  </thead>\n",
       "  <tbody>\n",
       "    <tr>\n",
       "      <th>0</th>\n",
       "      <td>String</td>\n",
       "      <td>0.098898</td>\n",
       "      <td>0.799468</td>\n",
       "      <td>0.445330</td>\n",
       "      <td>0.125610</td>\n",
       "    </tr>\n",
       "    <tr>\n",
       "      <th>1</th>\n",
       "      <td>0.196192</td>\n",
       "      <td>0.257675</td>\n",
       "      <td>0.466249</td>\n",
       "      <td>0.370161</td>\n",
       "      <td>0.216306</td>\n",
       "    </tr>\n",
       "  </tbody>\n",
       "</table>\n",
       "</div>"
      ],
      "text/plain": [
       "          0         1         2         3         4\n",
       "0    String  0.098898  0.799468  0.445330  0.125610\n",
       "1  0.196192  0.257675  0.466249  0.370161  0.216306"
      ]
     },
     "execution_count": 29,
     "metadata": {},
     "output_type": "execute_result"
    }
   ],
   "source": [
    "newdf.head(2)"
   ]
  },
  {
   "cell_type": "code",
   "execution_count": 30,
   "metadata": {},
   "outputs": [
    {
     "data": {
      "text/plain": [
       "Int64Index([  0,   1,   2,   3,   4,   5,   6,   7,   8,   9,\n",
       "            ...\n",
       "            324, 325, 326, 327, 328, 329, 330, 331, 332, 333],\n",
       "           dtype='int64', length=334)"
      ]
     },
     "execution_count": 30,
     "metadata": {},
     "output_type": "execute_result"
    }
   ],
   "source": [
    "newdf.index"
   ]
  },
  {
   "cell_type": "code",
   "execution_count": 31,
   "metadata": {},
   "outputs": [
    {
     "data": {
      "text/plain": [
       "RangeIndex(start=0, stop=5, step=1)"
      ]
     },
     "execution_count": 31,
     "metadata": {},
     "output_type": "execute_result"
    }
   ],
   "source": [
    "newdf.columns"
   ]
  },
  {
   "cell_type": "code",
   "execution_count": 32,
   "metadata": {},
   "outputs": [
    {
     "name": "stderr",
     "output_type": "stream",
     "text": [
      "<ipython-input-32-fa16b7a98942>:1: SettingWithCopyWarning: \n",
      "A value is trying to be set on a copy of a slice from a DataFrame\n",
      "\n",
      "See the caveats in the documentation: https://pandas.pydata.org/pandas-docs/stable/user_guide/indexing.html#returning-a-view-versus-a-copy\n",
      "  newdf[0][0] = 0.3 # Again a warning will come\n"
     ]
    }
   ],
   "source": [
    "newdf[0][0] = 0.3 # Again a warning will come"
   ]
  },
  {
   "cell_type": "code",
   "execution_count": 33,
   "metadata": {},
   "outputs": [
    {
     "data": {
      "text/plain": [
       "array([[0.3, 0.09889777094372965, 0.7994682317397349,\n",
       "        0.44532967855152483, 0.12561035910525775],\n",
       "       [0.19619214391587592, 0.2576751610315231, 0.46624903831784703,\n",
       "        0.37016059562063364, 0.2163057730202942],\n",
       "       [0.9391802106906854, 0.8549233945948208, 0.7476954466174024,\n",
       "        0.2842685568946104, 0.593234915439808],\n",
       "       ...,\n",
       "       [0.3231038130259535, 0.6994477442503936, 0.03772224673866531,\n",
       "        0.1899457560088833, 0.6062094084564607],\n",
       "       [0.5951403390354731, 0.8291819986214156, 0.10399411777151712,\n",
       "        0.25359736955073, 0.7966113928564525],\n",
       "       [0.8967593154940328, 0.8068803759579496, 0.5368064710361585,\n",
       "        0.9582114599084008, 0.8305675423305237]], dtype=object)"
      ]
     },
     "execution_count": 33,
     "metadata": {},
     "output_type": "execute_result"
    }
   ],
   "source": [
    "# To Convert the Dataframe to numpy Array:\n",
    "newdf.to_numpy()"
   ]
  },
  {
   "cell_type": "code",
   "execution_count": 34,
   "metadata": {},
   "outputs": [
    {
     "data": {
      "text/html": [
       "<div>\n",
       "<style scoped>\n",
       "    .dataframe tbody tr th:only-of-type {\n",
       "        vertical-align: middle;\n",
       "    }\n",
       "\n",
       "    .dataframe tbody tr th {\n",
       "        vertical-align: top;\n",
       "    }\n",
       "\n",
       "    .dataframe thead th {\n",
       "        text-align: right;\n",
       "    }\n",
       "</style>\n",
       "<table border=\"1\" class=\"dataframe\">\n",
       "  <thead>\n",
       "    <tr style=\"text-align: right;\">\n",
       "      <th></th>\n",
       "      <th>0</th>\n",
       "      <th>1</th>\n",
       "      <th>2</th>\n",
       "      <th>3</th>\n",
       "      <th>4</th>\n",
       "      <th>5</th>\n",
       "      <th>6</th>\n",
       "      <th>7</th>\n",
       "      <th>8</th>\n",
       "      <th>9</th>\n",
       "      <th>...</th>\n",
       "      <th>324</th>\n",
       "      <th>325</th>\n",
       "      <th>326</th>\n",
       "      <th>327</th>\n",
       "      <th>328</th>\n",
       "      <th>329</th>\n",
       "      <th>330</th>\n",
       "      <th>331</th>\n",
       "      <th>332</th>\n",
       "      <th>333</th>\n",
       "    </tr>\n",
       "  </thead>\n",
       "  <tbody>\n",
       "    <tr>\n",
       "      <th>0</th>\n",
       "      <td>0.3</td>\n",
       "      <td>0.196192</td>\n",
       "      <td>0.93918</td>\n",
       "      <td>0.720312</td>\n",
       "      <td>0.814585</td>\n",
       "      <td>0.997832</td>\n",
       "      <td>0.793365</td>\n",
       "      <td>0.491996</td>\n",
       "      <td>0.325547</td>\n",
       "      <td>0.805782</td>\n",
       "      <td>...</td>\n",
       "      <td>0.186652</td>\n",
       "      <td>0.159024</td>\n",
       "      <td>0.0614061</td>\n",
       "      <td>0.239365</td>\n",
       "      <td>0.97905</td>\n",
       "      <td>0.00528551</td>\n",
       "      <td>0.516978</td>\n",
       "      <td>0.323104</td>\n",
       "      <td>0.59514</td>\n",
       "      <td>0.896759</td>\n",
       "    </tr>\n",
       "    <tr>\n",
       "      <th>1</th>\n",
       "      <td>0.0988978</td>\n",
       "      <td>0.257675</td>\n",
       "      <td>0.854923</td>\n",
       "      <td>0.0951862</td>\n",
       "      <td>0.167799</td>\n",
       "      <td>0.854612</td>\n",
       "      <td>0.472106</td>\n",
       "      <td>0.922951</td>\n",
       "      <td>0.681585</td>\n",
       "      <td>0.677104</td>\n",
       "      <td>...</td>\n",
       "      <td>0.950958</td>\n",
       "      <td>0.710382</td>\n",
       "      <td>0.65273</td>\n",
       "      <td>0.433811</td>\n",
       "      <td>0.865135</td>\n",
       "      <td>0.162951</td>\n",
       "      <td>0.722828</td>\n",
       "      <td>0.699448</td>\n",
       "      <td>0.829182</td>\n",
       "      <td>0.80688</td>\n",
       "    </tr>\n",
       "    <tr>\n",
       "      <th>2</th>\n",
       "      <td>0.799468</td>\n",
       "      <td>0.466249</td>\n",
       "      <td>0.747695</td>\n",
       "      <td>0.469506</td>\n",
       "      <td>0.22623</td>\n",
       "      <td>0.124824</td>\n",
       "      <td>0.278886</td>\n",
       "      <td>0.846969</td>\n",
       "      <td>0.585608</td>\n",
       "      <td>0.606982</td>\n",
       "      <td>...</td>\n",
       "      <td>0.537422</td>\n",
       "      <td>0.467881</td>\n",
       "      <td>0.26455</td>\n",
       "      <td>0.426601</td>\n",
       "      <td>0.715997</td>\n",
       "      <td>0.0246612</td>\n",
       "      <td>0.55667</td>\n",
       "      <td>0.0377222</td>\n",
       "      <td>0.103994</td>\n",
       "      <td>0.536806</td>\n",
       "    </tr>\n",
       "    <tr>\n",
       "      <th>3</th>\n",
       "      <td>0.44533</td>\n",
       "      <td>0.370161</td>\n",
       "      <td>0.284269</td>\n",
       "      <td>0.76479</td>\n",
       "      <td>0.310206</td>\n",
       "      <td>0.474593</td>\n",
       "      <td>0.717241</td>\n",
       "      <td>0.360098</td>\n",
       "      <td>0.678848</td>\n",
       "      <td>0.842723</td>\n",
       "      <td>...</td>\n",
       "      <td>0.16014</td>\n",
       "      <td>0.707575</td>\n",
       "      <td>0.306984</td>\n",
       "      <td>0.286161</td>\n",
       "      <td>0.415319</td>\n",
       "      <td>0.784161</td>\n",
       "      <td>0.921744</td>\n",
       "      <td>0.189946</td>\n",
       "      <td>0.253597</td>\n",
       "      <td>0.958211</td>\n",
       "    </tr>\n",
       "    <tr>\n",
       "      <th>4</th>\n",
       "      <td>0.12561</td>\n",
       "      <td>0.216306</td>\n",
       "      <td>0.593235</td>\n",
       "      <td>0.824789</td>\n",
       "      <td>0.776482</td>\n",
       "      <td>0.808553</td>\n",
       "      <td>0.675286</td>\n",
       "      <td>0.694116</td>\n",
       "      <td>0.543631</td>\n",
       "      <td>0.181878</td>\n",
       "      <td>...</td>\n",
       "      <td>0.637587</td>\n",
       "      <td>0.895405</td>\n",
       "      <td>0.929692</td>\n",
       "      <td>0.814986</td>\n",
       "      <td>0.063919</td>\n",
       "      <td>0.812931</td>\n",
       "      <td>0.217997</td>\n",
       "      <td>0.606209</td>\n",
       "      <td>0.796611</td>\n",
       "      <td>0.830568</td>\n",
       "    </tr>\n",
       "  </tbody>\n",
       "</table>\n",
       "<p>5 rows × 334 columns</p>\n",
       "</div>"
      ],
      "text/plain": [
       "         0         1         2          3         4         5         6    \\\n",
       "0        0.3  0.196192   0.93918   0.720312  0.814585  0.997832  0.793365   \n",
       "1  0.0988978  0.257675  0.854923  0.0951862  0.167799  0.854612  0.472106   \n",
       "2   0.799468  0.466249  0.747695   0.469506   0.22623  0.124824  0.278886   \n",
       "3    0.44533  0.370161  0.284269    0.76479  0.310206  0.474593  0.717241   \n",
       "4    0.12561  0.216306  0.593235   0.824789  0.776482  0.808553  0.675286   \n",
       "\n",
       "        7         8         9    ...       324       325        326       327  \\\n",
       "0  0.491996  0.325547  0.805782  ...  0.186652  0.159024  0.0614061  0.239365   \n",
       "1  0.922951  0.681585  0.677104  ...  0.950958  0.710382    0.65273  0.433811   \n",
       "2  0.846969  0.585608  0.606982  ...  0.537422  0.467881    0.26455  0.426601   \n",
       "3  0.360098  0.678848  0.842723  ...   0.16014  0.707575   0.306984  0.286161   \n",
       "4  0.694116  0.543631  0.181878  ...  0.637587  0.895405   0.929692  0.814986   \n",
       "\n",
       "        328         329       330        331       332       333  \n",
       "0   0.97905  0.00528551  0.516978   0.323104   0.59514  0.896759  \n",
       "1  0.865135    0.162951  0.722828   0.699448  0.829182   0.80688  \n",
       "2  0.715997   0.0246612   0.55667  0.0377222  0.103994  0.536806  \n",
       "3  0.415319    0.784161  0.921744   0.189946  0.253597  0.958211  \n",
       "4  0.063919    0.812931  0.217997   0.606209  0.796611  0.830568  \n",
       "\n",
       "[5 rows x 334 columns]"
      ]
     },
     "execution_count": 34,
     "metadata": {},
     "output_type": "execute_result"
    }
   ],
   "source": [
    "newdf.T # Its Transpose will happen, now it will be 5 rows by 334 columns"
   ]
  },
  {
   "cell_type": "code",
   "execution_count": 35,
   "metadata": {},
   "outputs": [
    {
     "data": {
      "text/html": [
       "<div>\n",
       "<style scoped>\n",
       "    .dataframe tbody tr th:only-of-type {\n",
       "        vertical-align: middle;\n",
       "    }\n",
       "\n",
       "    .dataframe tbody tr th {\n",
       "        vertical-align: top;\n",
       "    }\n",
       "\n",
       "    .dataframe thead th {\n",
       "        text-align: right;\n",
       "    }\n",
       "</style>\n",
       "<table border=\"1\" class=\"dataframe\">\n",
       "  <thead>\n",
       "    <tr style=\"text-align: right;\">\n",
       "      <th></th>\n",
       "      <th>0</th>\n",
       "      <th>1</th>\n",
       "      <th>2</th>\n",
       "      <th>3</th>\n",
       "      <th>4</th>\n",
       "    </tr>\n",
       "  </thead>\n",
       "  <tbody>\n",
       "    <tr>\n",
       "      <th>333</th>\n",
       "      <td>0.896759</td>\n",
       "      <td>0.806880</td>\n",
       "      <td>0.536806</td>\n",
       "      <td>0.958211</td>\n",
       "      <td>0.830568</td>\n",
       "    </tr>\n",
       "    <tr>\n",
       "      <th>332</th>\n",
       "      <td>0.59514</td>\n",
       "      <td>0.829182</td>\n",
       "      <td>0.103994</td>\n",
       "      <td>0.253597</td>\n",
       "      <td>0.796611</td>\n",
       "    </tr>\n",
       "    <tr>\n",
       "      <th>331</th>\n",
       "      <td>0.323104</td>\n",
       "      <td>0.699448</td>\n",
       "      <td>0.037722</td>\n",
       "      <td>0.189946</td>\n",
       "      <td>0.606209</td>\n",
       "    </tr>\n",
       "    <tr>\n",
       "      <th>330</th>\n",
       "      <td>0.516978</td>\n",
       "      <td>0.722828</td>\n",
       "      <td>0.556670</td>\n",
       "      <td>0.921744</td>\n",
       "      <td>0.217997</td>\n",
       "    </tr>\n",
       "    <tr>\n",
       "      <th>329</th>\n",
       "      <td>0.00528551</td>\n",
       "      <td>0.162951</td>\n",
       "      <td>0.024661</td>\n",
       "      <td>0.784161</td>\n",
       "      <td>0.812931</td>\n",
       "    </tr>\n",
       "    <tr>\n",
       "      <th>...</th>\n",
       "      <td>...</td>\n",
       "      <td>...</td>\n",
       "      <td>...</td>\n",
       "      <td>...</td>\n",
       "      <td>...</td>\n",
       "    </tr>\n",
       "    <tr>\n",
       "      <th>4</th>\n",
       "      <td>0.814585</td>\n",
       "      <td>0.167799</td>\n",
       "      <td>0.226230</td>\n",
       "      <td>0.310206</td>\n",
       "      <td>0.776482</td>\n",
       "    </tr>\n",
       "    <tr>\n",
       "      <th>3</th>\n",
       "      <td>0.720312</td>\n",
       "      <td>0.095186</td>\n",
       "      <td>0.469506</td>\n",
       "      <td>0.764790</td>\n",
       "      <td>0.824789</td>\n",
       "    </tr>\n",
       "    <tr>\n",
       "      <th>2</th>\n",
       "      <td>0.93918</td>\n",
       "      <td>0.854923</td>\n",
       "      <td>0.747695</td>\n",
       "      <td>0.284269</td>\n",
       "      <td>0.593235</td>\n",
       "    </tr>\n",
       "    <tr>\n",
       "      <th>1</th>\n",
       "      <td>0.196192</td>\n",
       "      <td>0.257675</td>\n",
       "      <td>0.466249</td>\n",
       "      <td>0.370161</td>\n",
       "      <td>0.216306</td>\n",
       "    </tr>\n",
       "    <tr>\n",
       "      <th>0</th>\n",
       "      <td>0.3</td>\n",
       "      <td>0.098898</td>\n",
       "      <td>0.799468</td>\n",
       "      <td>0.445330</td>\n",
       "      <td>0.125610</td>\n",
       "    </tr>\n",
       "  </tbody>\n",
       "</table>\n",
       "<p>334 rows × 5 columns</p>\n",
       "</div>"
      ],
      "text/plain": [
       "              0         1         2         3         4\n",
       "333    0.896759  0.806880  0.536806  0.958211  0.830568\n",
       "332     0.59514  0.829182  0.103994  0.253597  0.796611\n",
       "331    0.323104  0.699448  0.037722  0.189946  0.606209\n",
       "330    0.516978  0.722828  0.556670  0.921744  0.217997\n",
       "329  0.00528551  0.162951  0.024661  0.784161  0.812931\n",
       "..          ...       ...       ...       ...       ...\n",
       "4      0.814585  0.167799  0.226230  0.310206  0.776482\n",
       "3      0.720312  0.095186  0.469506  0.764790  0.824789\n",
       "2       0.93918  0.854923  0.747695  0.284269  0.593235\n",
       "1      0.196192  0.257675  0.466249  0.370161  0.216306\n",
       "0           0.3  0.098898  0.799468  0.445330  0.125610\n",
       "\n",
       "[334 rows x 5 columns]"
      ]
     },
     "execution_count": 35,
     "metadata": {},
     "output_type": "execute_result"
    }
   ],
   "source": [
    "newdf.sort_index(axis=0, ascending=False) # axis=0 is rows, means we'll sort the rows, axis=1 is columns"
   ]
  },
  {
   "cell_type": "code",
   "execution_count": 36,
   "metadata": {},
   "outputs": [
    {
     "data": {
      "text/plain": [
       "0         0.3\n",
       "1    0.196192\n",
       "Name: 0, dtype: object"
      ]
     },
     "execution_count": 36,
     "metadata": {},
     "output_type": "execute_result"
    }
   ],
   "source": [
    "newdf[0].head(2) # This will give the column"
   ]
  },
  {
   "cell_type": "code",
   "execution_count": 37,
   "metadata": {},
   "outputs": [
    {
     "data": {
      "text/plain": [
       "pandas.core.series.Series"
      ]
     },
     "execution_count": 37,
     "metadata": {},
     "output_type": "execute_result"
    }
   ],
   "source": [
    "type(newdf[0])"
   ]
  },
  {
   "cell_type": "markdown",
   "metadata": {},
   "source": [
    "##### View and copy:-"
   ]
  },
  {
   "cell_type": "code",
   "execution_count": 38,
   "metadata": {},
   "outputs": [],
   "source": [
    "newdf2 = newdf"
   ]
  },
  {
   "cell_type": "code",
   "execution_count": 39,
   "metadata": {},
   "outputs": [
    {
     "name": "stderr",
     "output_type": "stream",
     "text": [
      "<ipython-input-39-97a2bc5425ae>:1: SettingWithCopyWarning: \n",
      "A value is trying to be set on a copy of a slice from a DataFrame\n",
      "\n",
      "See the caveats in the documentation: https://pandas.pydata.org/pandas-docs/stable/user_guide/indexing.html#returning-a-view-versus-a-copy\n",
      "  newdf2[0][0] = 9783 # Again Copy and View Warning will come\n"
     ]
    }
   ],
   "source": [
    "newdf2[0][0] = 9783 # Again Copy and View Warning will come"
   ]
  },
  {
   "cell_type": "code",
   "execution_count": 40,
   "metadata": {},
   "outputs": [
    {
     "data": {
      "text/html": [
       "<div>\n",
       "<style scoped>\n",
       "    .dataframe tbody tr th:only-of-type {\n",
       "        vertical-align: middle;\n",
       "    }\n",
       "\n",
       "    .dataframe tbody tr th {\n",
       "        vertical-align: top;\n",
       "    }\n",
       "\n",
       "    .dataframe thead th {\n",
       "        text-align: right;\n",
       "    }\n",
       "</style>\n",
       "<table border=\"1\" class=\"dataframe\">\n",
       "  <thead>\n",
       "    <tr style=\"text-align: right;\">\n",
       "      <th></th>\n",
       "      <th>0</th>\n",
       "      <th>1</th>\n",
       "      <th>2</th>\n",
       "      <th>3</th>\n",
       "      <th>4</th>\n",
       "    </tr>\n",
       "  </thead>\n",
       "  <tbody>\n",
       "    <tr>\n",
       "      <th>0</th>\n",
       "      <td>9783</td>\n",
       "      <td>0.098898</td>\n",
       "      <td>0.799468</td>\n",
       "      <td>0.445330</td>\n",
       "      <td>0.125610</td>\n",
       "    </tr>\n",
       "    <tr>\n",
       "      <th>1</th>\n",
       "      <td>0.196192</td>\n",
       "      <td>0.257675</td>\n",
       "      <td>0.466249</td>\n",
       "      <td>0.370161</td>\n",
       "      <td>0.216306</td>\n",
       "    </tr>\n",
       "    <tr>\n",
       "      <th>2</th>\n",
       "      <td>0.93918</td>\n",
       "      <td>0.854923</td>\n",
       "      <td>0.747695</td>\n",
       "      <td>0.284269</td>\n",
       "      <td>0.593235</td>\n",
       "    </tr>\n",
       "    <tr>\n",
       "      <th>3</th>\n",
       "      <td>0.720312</td>\n",
       "      <td>0.095186</td>\n",
       "      <td>0.469506</td>\n",
       "      <td>0.764790</td>\n",
       "      <td>0.824789</td>\n",
       "    </tr>\n",
       "    <tr>\n",
       "      <th>4</th>\n",
       "      <td>0.814585</td>\n",
       "      <td>0.167799</td>\n",
       "      <td>0.226230</td>\n",
       "      <td>0.310206</td>\n",
       "      <td>0.776482</td>\n",
       "    </tr>\n",
       "  </tbody>\n",
       "</table>\n",
       "</div>"
      ],
      "text/plain": [
       "          0         1         2         3         4\n",
       "0      9783  0.098898  0.799468  0.445330  0.125610\n",
       "1  0.196192  0.257675  0.466249  0.370161  0.216306\n",
       "2   0.93918  0.854923  0.747695  0.284269  0.593235\n",
       "3  0.720312  0.095186  0.469506  0.764790  0.824789\n",
       "4  0.814585  0.167799  0.226230  0.310206  0.776482"
      ]
     },
     "execution_count": 40,
     "metadata": {},
     "output_type": "execute_result"
    }
   ],
   "source": [
    "newdf.head() # newdf is also changed but we had changed newdf2"
   ]
  },
  {
   "cell_type": "markdown",
   "metadata": {},
   "source": [
    "This happened because newdf2 is just a view of newdf, it is like a pointer"
   ]
  },
  {
   "cell_type": "markdown",
   "metadata": {},
   "source": [
    "If we change by copy method,"
   ]
  },
  {
   "cell_type": "code",
   "execution_count": 41,
   "metadata": {},
   "outputs": [],
   "source": [
    "newdf2 = newdf.copy()"
   ]
  },
  {
   "cell_type": "code",
   "execution_count": 42,
   "metadata": {},
   "outputs": [
    {
     "name": "stderr",
     "output_type": "stream",
     "text": [
      "<ipython-input-42-97cad0b75b9c>:1: SettingWithCopyWarning: \n",
      "A value is trying to be set on a copy of a slice from a DataFrame\n",
      "\n",
      "See the caveats in the documentation: https://pandas.pydata.org/pandas-docs/stable/user_guide/indexing.html#returning-a-view-versus-a-copy\n",
      "  newdf2[0][1] = 123.321\n"
     ]
    }
   ],
   "source": [
    "newdf2[0][1] = 123.321"
   ]
  },
  {
   "cell_type": "code",
   "execution_count": 43,
   "metadata": {},
   "outputs": [
    {
     "data": {
      "text/html": [
       "<div>\n",
       "<style scoped>\n",
       "    .dataframe tbody tr th:only-of-type {\n",
       "        vertical-align: middle;\n",
       "    }\n",
       "\n",
       "    .dataframe tbody tr th {\n",
       "        vertical-align: top;\n",
       "    }\n",
       "\n",
       "    .dataframe thead th {\n",
       "        text-align: right;\n",
       "    }\n",
       "</style>\n",
       "<table border=\"1\" class=\"dataframe\">\n",
       "  <thead>\n",
       "    <tr style=\"text-align: right;\">\n",
       "      <th></th>\n",
       "      <th>0</th>\n",
       "      <th>1</th>\n",
       "      <th>2</th>\n",
       "      <th>3</th>\n",
       "      <th>4</th>\n",
       "    </tr>\n",
       "  </thead>\n",
       "  <tbody>\n",
       "    <tr>\n",
       "      <th>0</th>\n",
       "      <td>9783</td>\n",
       "      <td>0.098898</td>\n",
       "      <td>0.799468</td>\n",
       "      <td>0.445330</td>\n",
       "      <td>0.125610</td>\n",
       "    </tr>\n",
       "    <tr>\n",
       "      <th>1</th>\n",
       "      <td>0.196192</td>\n",
       "      <td>0.257675</td>\n",
       "      <td>0.466249</td>\n",
       "      <td>0.370161</td>\n",
       "      <td>0.216306</td>\n",
       "    </tr>\n",
       "  </tbody>\n",
       "</table>\n",
       "</div>"
      ],
      "text/plain": [
       "          0         1         2         3         4\n",
       "0      9783  0.098898  0.799468  0.445330  0.125610\n",
       "1  0.196192  0.257675  0.466249  0.370161  0.216306"
      ]
     },
     "execution_count": 43,
     "metadata": {},
     "output_type": "execute_result"
    }
   ],
   "source": [
    "newdf.head(2)  # Now it is not changes"
   ]
  },
  {
   "cell_type": "code",
   "execution_count": 44,
   "metadata": {},
   "outputs": [
    {
     "data": {
      "text/html": [
       "<div>\n",
       "<style scoped>\n",
       "    .dataframe tbody tr th:only-of-type {\n",
       "        vertical-align: middle;\n",
       "    }\n",
       "\n",
       "    .dataframe tbody tr th {\n",
       "        vertical-align: top;\n",
       "    }\n",
       "\n",
       "    .dataframe thead th {\n",
       "        text-align: right;\n",
       "    }\n",
       "</style>\n",
       "<table border=\"1\" class=\"dataframe\">\n",
       "  <thead>\n",
       "    <tr style=\"text-align: right;\">\n",
       "      <th></th>\n",
       "      <th>0</th>\n",
       "      <th>1</th>\n",
       "      <th>2</th>\n",
       "      <th>3</th>\n",
       "      <th>4</th>\n",
       "    </tr>\n",
       "  </thead>\n",
       "  <tbody>\n",
       "    <tr>\n",
       "      <th>0</th>\n",
       "      <td>9783</td>\n",
       "      <td>0.098898</td>\n",
       "      <td>0.799468</td>\n",
       "      <td>0.445330</td>\n",
       "      <td>0.125610</td>\n",
       "    </tr>\n",
       "    <tr>\n",
       "      <th>1</th>\n",
       "      <td>123.321</td>\n",
       "      <td>0.257675</td>\n",
       "      <td>0.466249</td>\n",
       "      <td>0.370161</td>\n",
       "      <td>0.216306</td>\n",
       "    </tr>\n",
       "  </tbody>\n",
       "</table>\n",
       "</div>"
      ],
      "text/plain": [
       "         0         1         2         3         4\n",
       "0     9783  0.098898  0.799468  0.445330  0.125610\n",
       "1  123.321  0.257675  0.466249  0.370161  0.216306"
      ]
     },
     "execution_count": 44,
     "metadata": {},
     "output_type": "execute_result"
    }
   ],
   "source": [
    "newdf2.head(2) # It has changed only here"
   ]
  },
  {
   "cell_type": "markdown",
   "metadata": {},
   "source": [
    "To avoid the warning while setting a value, we donot set it like this"
   ]
  },
  {
   "cell_type": "markdown",
   "metadata": {},
   "source": [
    "##### loc function:-"
   ]
  },
  {
   "cell_type": "markdown",
   "metadata": {},
   "source": [
    "We set the value like this:-"
   ]
  },
  {
   "cell_type": "code",
   "execution_count": 45,
   "metadata": {},
   "outputs": [],
   "source": [
    "newdf.loc[0, 0] = 654"
   ]
  },
  {
   "cell_type": "code",
   "execution_count": 46,
   "metadata": {},
   "outputs": [
    {
     "data": {
      "text/html": [
       "<div>\n",
       "<style scoped>\n",
       "    .dataframe tbody tr th:only-of-type {\n",
       "        vertical-align: middle;\n",
       "    }\n",
       "\n",
       "    .dataframe tbody tr th {\n",
       "        vertical-align: top;\n",
       "    }\n",
       "\n",
       "    .dataframe thead th {\n",
       "        text-align: right;\n",
       "    }\n",
       "</style>\n",
       "<table border=\"1\" class=\"dataframe\">\n",
       "  <thead>\n",
       "    <tr style=\"text-align: right;\">\n",
       "      <th></th>\n",
       "      <th>0</th>\n",
       "      <th>1</th>\n",
       "      <th>2</th>\n",
       "      <th>3</th>\n",
       "      <th>4</th>\n",
       "    </tr>\n",
       "  </thead>\n",
       "  <tbody>\n",
       "    <tr>\n",
       "      <th>0</th>\n",
       "      <td>654</td>\n",
       "      <td>0.098898</td>\n",
       "      <td>0.799468</td>\n",
       "      <td>0.44533</td>\n",
       "      <td>0.12561</td>\n",
       "    </tr>\n",
       "  </tbody>\n",
       "</table>\n",
       "</div>"
      ],
      "text/plain": [
       "     0         1         2        3        4\n",
       "0  654  0.098898  0.799468  0.44533  0.12561"
      ]
     },
     "execution_count": 46,
     "metadata": {},
     "output_type": "execute_result"
    }
   ],
   "source": [
    "newdf.head(1) # The value has been changed"
   ]
  },
  {
   "cell_type": "code",
   "execution_count": 47,
   "metadata": {},
   "outputs": [],
   "source": [
    "newdf.columns = list(\"ABCDE\")"
   ]
  },
  {
   "cell_type": "code",
   "execution_count": 48,
   "metadata": {},
   "outputs": [
    {
     "data": {
      "text/html": [
       "<div>\n",
       "<style scoped>\n",
       "    .dataframe tbody tr th:only-of-type {\n",
       "        vertical-align: middle;\n",
       "    }\n",
       "\n",
       "    .dataframe tbody tr th {\n",
       "        vertical-align: top;\n",
       "    }\n",
       "\n",
       "    .dataframe thead th {\n",
       "        text-align: right;\n",
       "    }\n",
       "</style>\n",
       "<table border=\"1\" class=\"dataframe\">\n",
       "  <thead>\n",
       "    <tr style=\"text-align: right;\">\n",
       "      <th></th>\n",
       "      <th>A</th>\n",
       "      <th>B</th>\n",
       "      <th>C</th>\n",
       "      <th>D</th>\n",
       "      <th>E</th>\n",
       "    </tr>\n",
       "  </thead>\n",
       "  <tbody>\n",
       "    <tr>\n",
       "      <th>0</th>\n",
       "      <td>654</td>\n",
       "      <td>0.098898</td>\n",
       "      <td>0.799468</td>\n",
       "      <td>0.44533</td>\n",
       "      <td>0.12561</td>\n",
       "    </tr>\n",
       "  </tbody>\n",
       "</table>\n",
       "</div>"
      ],
      "text/plain": [
       "     A         B         C        D        E\n",
       "0  654  0.098898  0.799468  0.44533  0.12561"
      ]
     },
     "execution_count": 48,
     "metadata": {},
     "output_type": "execute_result"
    }
   ],
   "source": [
    "newdf.head(1)"
   ]
  },
  {
   "cell_type": "code",
   "execution_count": 49,
   "metadata": {},
   "outputs": [],
   "source": [
    "# newdf.loc[0, 0] = 123 # This will add a new column '0' at the end\n",
    "newdf.loc[0, 'B'] = 123"
   ]
  },
  {
   "cell_type": "code",
   "execution_count": 50,
   "metadata": {},
   "outputs": [
    {
     "data": {
      "text/html": [
       "<div>\n",
       "<style scoped>\n",
       "    .dataframe tbody tr th:only-of-type {\n",
       "        vertical-align: middle;\n",
       "    }\n",
       "\n",
       "    .dataframe tbody tr th {\n",
       "        vertical-align: top;\n",
       "    }\n",
       "\n",
       "    .dataframe thead th {\n",
       "        text-align: right;\n",
       "    }\n",
       "</style>\n",
       "<table border=\"1\" class=\"dataframe\">\n",
       "  <thead>\n",
       "    <tr style=\"text-align: right;\">\n",
       "      <th></th>\n",
       "      <th>A</th>\n",
       "      <th>B</th>\n",
       "      <th>C</th>\n",
       "      <th>D</th>\n",
       "      <th>E</th>\n",
       "    </tr>\n",
       "  </thead>\n",
       "  <tbody>\n",
       "    <tr>\n",
       "      <th>0</th>\n",
       "      <td>654</td>\n",
       "      <td>123.0</td>\n",
       "      <td>0.799468</td>\n",
       "      <td>0.44533</td>\n",
       "      <td>0.12561</td>\n",
       "    </tr>\n",
       "  </tbody>\n",
       "</table>\n",
       "</div>"
      ],
      "text/plain": [
       "     A      B         C        D        E\n",
       "0  654  123.0  0.799468  0.44533  0.12561"
      ]
     },
     "execution_count": 50,
     "metadata": {},
     "output_type": "execute_result"
    }
   ],
   "source": [
    "newdf.head(1)"
   ]
  },
  {
   "cell_type": "code",
   "execution_count": 51,
   "metadata": {},
   "outputs": [
    {
     "data": {
      "text/html": [
       "<div>\n",
       "<style scoped>\n",
       "    .dataframe tbody tr th:only-of-type {\n",
       "        vertical-align: middle;\n",
       "    }\n",
       "\n",
       "    .dataframe tbody tr th {\n",
       "        vertical-align: top;\n",
       "    }\n",
       "\n",
       "    .dataframe thead th {\n",
       "        text-align: right;\n",
       "    }\n",
       "</style>\n",
       "<table border=\"1\" class=\"dataframe\">\n",
       "  <thead>\n",
       "    <tr style=\"text-align: right;\">\n",
       "      <th></th>\n",
       "      <th>A</th>\n",
       "      <th>B</th>\n",
       "      <th>C</th>\n",
       "      <th>D</th>\n",
       "    </tr>\n",
       "  </thead>\n",
       "  <tbody>\n",
       "    <tr>\n",
       "      <th>0</th>\n",
       "      <td>654</td>\n",
       "      <td>123.000000</td>\n",
       "      <td>0.799468</td>\n",
       "      <td>0.445330</td>\n",
       "    </tr>\n",
       "    <tr>\n",
       "      <th>1</th>\n",
       "      <td>0.196192</td>\n",
       "      <td>0.257675</td>\n",
       "      <td>0.466249</td>\n",
       "      <td>0.370161</td>\n",
       "    </tr>\n",
       "    <tr>\n",
       "      <th>2</th>\n",
       "      <td>0.93918</td>\n",
       "      <td>0.854923</td>\n",
       "      <td>0.747695</td>\n",
       "      <td>0.284269</td>\n",
       "    </tr>\n",
       "    <tr>\n",
       "      <th>3</th>\n",
       "      <td>0.720312</td>\n",
       "      <td>0.095186</td>\n",
       "      <td>0.469506</td>\n",
       "      <td>0.764790</td>\n",
       "    </tr>\n",
       "    <tr>\n",
       "      <th>4</th>\n",
       "      <td>0.814585</td>\n",
       "      <td>0.167799</td>\n",
       "      <td>0.226230</td>\n",
       "      <td>0.310206</td>\n",
       "    </tr>\n",
       "    <tr>\n",
       "      <th>...</th>\n",
       "      <td>...</td>\n",
       "      <td>...</td>\n",
       "      <td>...</td>\n",
       "      <td>...</td>\n",
       "    </tr>\n",
       "    <tr>\n",
       "      <th>329</th>\n",
       "      <td>0.00528551</td>\n",
       "      <td>0.162951</td>\n",
       "      <td>0.024661</td>\n",
       "      <td>0.784161</td>\n",
       "    </tr>\n",
       "    <tr>\n",
       "      <th>330</th>\n",
       "      <td>0.516978</td>\n",
       "      <td>0.722828</td>\n",
       "      <td>0.556670</td>\n",
       "      <td>0.921744</td>\n",
       "    </tr>\n",
       "    <tr>\n",
       "      <th>331</th>\n",
       "      <td>0.323104</td>\n",
       "      <td>0.699448</td>\n",
       "      <td>0.037722</td>\n",
       "      <td>0.189946</td>\n",
       "    </tr>\n",
       "    <tr>\n",
       "      <th>332</th>\n",
       "      <td>0.59514</td>\n",
       "      <td>0.829182</td>\n",
       "      <td>0.103994</td>\n",
       "      <td>0.253597</td>\n",
       "    </tr>\n",
       "    <tr>\n",
       "      <th>333</th>\n",
       "      <td>0.896759</td>\n",
       "      <td>0.806880</td>\n",
       "      <td>0.536806</td>\n",
       "      <td>0.958211</td>\n",
       "    </tr>\n",
       "  </tbody>\n",
       "</table>\n",
       "<p>334 rows × 4 columns</p>\n",
       "</div>"
      ],
      "text/plain": [
       "              A           B         C         D\n",
       "0           654  123.000000  0.799468  0.445330\n",
       "1      0.196192    0.257675  0.466249  0.370161\n",
       "2       0.93918    0.854923  0.747695  0.284269\n",
       "3      0.720312    0.095186  0.469506  0.764790\n",
       "4      0.814585    0.167799  0.226230  0.310206\n",
       "..          ...         ...       ...       ...\n",
       "329  0.00528551    0.162951  0.024661  0.784161\n",
       "330    0.516978    0.722828  0.556670  0.921744\n",
       "331    0.323104    0.699448  0.037722  0.189946\n",
       "332     0.59514    0.829182  0.103994  0.253597\n",
       "333    0.896759    0.806880  0.536806  0.958211\n",
       "\n",
       "[334 rows x 4 columns]"
      ]
     },
     "execution_count": 51,
     "metadata": {},
     "output_type": "execute_result"
    }
   ],
   "source": [
    "newdf.drop('E', axis=1) # Default axis is 0, so a row would be removed\n",
    "# This function is used to remove a column or row\n",
    "# newdf = newdf.drop('E', axis=1)  # This will really change the newdf"
   ]
  },
  {
   "cell_type": "code",
   "execution_count": 52,
   "metadata": {},
   "outputs": [
    {
     "data": {
      "text/html": [
       "<div>\n",
       "<style scoped>\n",
       "    .dataframe tbody tr th:only-of-type {\n",
       "        vertical-align: middle;\n",
       "    }\n",
       "\n",
       "    .dataframe tbody tr th {\n",
       "        vertical-align: top;\n",
       "    }\n",
       "\n",
       "    .dataframe thead th {\n",
       "        text-align: right;\n",
       "    }\n",
       "</style>\n",
       "<table border=\"1\" class=\"dataframe\">\n",
       "  <thead>\n",
       "    <tr style=\"text-align: right;\">\n",
       "      <th></th>\n",
       "      <th>C</th>\n",
       "      <th>D</th>\n",
       "    </tr>\n",
       "  </thead>\n",
       "  <tbody>\n",
       "    <tr>\n",
       "      <th>1</th>\n",
       "      <td>0.466249</td>\n",
       "      <td>0.370161</td>\n",
       "    </tr>\n",
       "    <tr>\n",
       "      <th>2</th>\n",
       "      <td>0.747695</td>\n",
       "      <td>0.284269</td>\n",
       "    </tr>\n",
       "  </tbody>\n",
       "</table>\n",
       "</div>"
      ],
      "text/plain": [
       "          C         D\n",
       "1  0.466249  0.370161\n",
       "2  0.747695  0.284269"
      ]
     },
     "execution_count": 52,
     "metadata": {},
     "output_type": "execute_result"
    }
   ],
   "source": [
    "# To get only a set of rows and columns:\n",
    "newdf.loc[[1, 2], ['C', 'D']]"
   ]
  },
  {
   "cell_type": "code",
   "execution_count": 53,
   "metadata": {},
   "outputs": [
    {
     "data": {
      "text/html": [
       "<div>\n",
       "<style scoped>\n",
       "    .dataframe tbody tr th:only-of-type {\n",
       "        vertical-align: middle;\n",
       "    }\n",
       "\n",
       "    .dataframe tbody tr th {\n",
       "        vertical-align: top;\n",
       "    }\n",
       "\n",
       "    .dataframe thead th {\n",
       "        text-align: right;\n",
       "    }\n",
       "</style>\n",
       "<table border=\"1\" class=\"dataframe\">\n",
       "  <thead>\n",
       "    <tr style=\"text-align: right;\">\n",
       "      <th></th>\n",
       "      <th>C</th>\n",
       "      <th>D</th>\n",
       "    </tr>\n",
       "  </thead>\n",
       "  <tbody>\n",
       "    <tr>\n",
       "      <th>0</th>\n",
       "      <td>0.799468</td>\n",
       "      <td>0.445330</td>\n",
       "    </tr>\n",
       "    <tr>\n",
       "      <th>1</th>\n",
       "      <td>0.466249</td>\n",
       "      <td>0.370161</td>\n",
       "    </tr>\n",
       "    <tr>\n",
       "      <th>2</th>\n",
       "      <td>0.747695</td>\n",
       "      <td>0.284269</td>\n",
       "    </tr>\n",
       "    <tr>\n",
       "      <th>3</th>\n",
       "      <td>0.469506</td>\n",
       "      <td>0.764790</td>\n",
       "    </tr>\n",
       "    <tr>\n",
       "      <th>4</th>\n",
       "      <td>0.226230</td>\n",
       "      <td>0.310206</td>\n",
       "    </tr>\n",
       "    <tr>\n",
       "      <th>...</th>\n",
       "      <td>...</td>\n",
       "      <td>...</td>\n",
       "    </tr>\n",
       "    <tr>\n",
       "      <th>329</th>\n",
       "      <td>0.024661</td>\n",
       "      <td>0.784161</td>\n",
       "    </tr>\n",
       "    <tr>\n",
       "      <th>330</th>\n",
       "      <td>0.556670</td>\n",
       "      <td>0.921744</td>\n",
       "    </tr>\n",
       "    <tr>\n",
       "      <th>331</th>\n",
       "      <td>0.037722</td>\n",
       "      <td>0.189946</td>\n",
       "    </tr>\n",
       "    <tr>\n",
       "      <th>332</th>\n",
       "      <td>0.103994</td>\n",
       "      <td>0.253597</td>\n",
       "    </tr>\n",
       "    <tr>\n",
       "      <th>333</th>\n",
       "      <td>0.536806</td>\n",
       "      <td>0.958211</td>\n",
       "    </tr>\n",
       "  </tbody>\n",
       "</table>\n",
       "<p>334 rows × 2 columns</p>\n",
       "</div>"
      ],
      "text/plain": [
       "            C         D\n",
       "0    0.799468  0.445330\n",
       "1    0.466249  0.370161\n",
       "2    0.747695  0.284269\n",
       "3    0.469506  0.764790\n",
       "4    0.226230  0.310206\n",
       "..        ...       ...\n",
       "329  0.024661  0.784161\n",
       "330  0.556670  0.921744\n",
       "331  0.037722  0.189946\n",
       "332  0.103994  0.253597\n",
       "333  0.536806  0.958211\n",
       "\n",
       "[334 rows x 2 columns]"
      ]
     },
     "execution_count": 53,
     "metadata": {},
     "output_type": "execute_result"
    }
   ],
   "source": [
    "newdf.loc[:, ['C', 'D']] # This will give all rows but two columns"
   ]
  },
  {
   "cell_type": "code",
   "execution_count": 54,
   "metadata": {},
   "outputs": [
    {
     "data": {
      "text/html": [
       "<div>\n",
       "<style scoped>\n",
       "    .dataframe tbody tr th:only-of-type {\n",
       "        vertical-align: middle;\n",
       "    }\n",
       "\n",
       "    .dataframe tbody tr th {\n",
       "        vertical-align: top;\n",
       "    }\n",
       "\n",
       "    .dataframe thead th {\n",
       "        text-align: right;\n",
       "    }\n",
       "</style>\n",
       "<table border=\"1\" class=\"dataframe\">\n",
       "  <thead>\n",
       "    <tr style=\"text-align: right;\">\n",
       "      <th></th>\n",
       "      <th>A</th>\n",
       "      <th>B</th>\n",
       "      <th>C</th>\n",
       "      <th>D</th>\n",
       "      <th>E</th>\n",
       "    </tr>\n",
       "  </thead>\n",
       "  <tbody>\n",
       "    <tr>\n",
       "      <th>1</th>\n",
       "      <td>0.196192</td>\n",
       "      <td>0.257675</td>\n",
       "      <td>0.466249</td>\n",
       "      <td>0.370161</td>\n",
       "      <td>0.216306</td>\n",
       "    </tr>\n",
       "    <tr>\n",
       "      <th>2</th>\n",
       "      <td>0.93918</td>\n",
       "      <td>0.854923</td>\n",
       "      <td>0.747695</td>\n",
       "      <td>0.284269</td>\n",
       "      <td>0.593235</td>\n",
       "    </tr>\n",
       "  </tbody>\n",
       "</table>\n",
       "</div>"
      ],
      "text/plain": [
       "          A         B         C         D         E\n",
       "1  0.196192  0.257675  0.466249  0.370161  0.216306\n",
       "2   0.93918  0.854923  0.747695  0.284269  0.593235"
      ]
     },
     "execution_count": 54,
     "metadata": {},
     "output_type": "execute_result"
    }
   ],
   "source": [
    "newdf.loc[[1, 2], :] # This will give all columns but only these rows"
   ]
  },
  {
   "cell_type": "code",
   "execution_count": 55,
   "metadata": {},
   "outputs": [
    {
     "data": {
      "text/html": [
       "<div>\n",
       "<style scoped>\n",
       "    .dataframe tbody tr th:only-of-type {\n",
       "        vertical-align: middle;\n",
       "    }\n",
       "\n",
       "    .dataframe tbody tr th {\n",
       "        vertical-align: top;\n",
       "    }\n",
       "\n",
       "    .dataframe thead th {\n",
       "        text-align: right;\n",
       "    }\n",
       "</style>\n",
       "<table border=\"1\" class=\"dataframe\">\n",
       "  <thead>\n",
       "    <tr style=\"text-align: right;\">\n",
       "      <th></th>\n",
       "      <th>A</th>\n",
       "      <th>B</th>\n",
       "      <th>C</th>\n",
       "      <th>D</th>\n",
       "      <th>E</th>\n",
       "    </tr>\n",
       "  </thead>\n",
       "  <tbody>\n",
       "    <tr>\n",
       "      <th>1</th>\n",
       "      <td>0.196192</td>\n",
       "      <td>0.257675</td>\n",
       "      <td>0.466249</td>\n",
       "      <td>0.370161</td>\n",
       "      <td>0.216306</td>\n",
       "    </tr>\n",
       "    <tr>\n",
       "      <th>16</th>\n",
       "      <td>0.222269</td>\n",
       "      <td>0.688945</td>\n",
       "      <td>0.604013</td>\n",
       "      <td>0.035000</td>\n",
       "      <td>0.849866</td>\n",
       "    </tr>\n",
       "    <tr>\n",
       "      <th>21</th>\n",
       "      <td>0.100378</td>\n",
       "      <td>0.195051</td>\n",
       "      <td>0.759510</td>\n",
       "      <td>0.575367</td>\n",
       "      <td>0.814817</td>\n",
       "    </tr>\n",
       "    <tr>\n",
       "      <th>22</th>\n",
       "      <td>0.169351</td>\n",
       "      <td>0.581578</td>\n",
       "      <td>0.360512</td>\n",
       "      <td>0.767378</td>\n",
       "      <td>0.076582</td>\n",
       "    </tr>\n",
       "    <tr>\n",
       "      <th>36</th>\n",
       "      <td>0.238138</td>\n",
       "      <td>0.762544</td>\n",
       "      <td>0.859564</td>\n",
       "      <td>0.565792</td>\n",
       "      <td>0.701636</td>\n",
       "    </tr>\n",
       "    <tr>\n",
       "      <th>...</th>\n",
       "      <td>...</td>\n",
       "      <td>...</td>\n",
       "      <td>...</td>\n",
       "      <td>...</td>\n",
       "      <td>...</td>\n",
       "    </tr>\n",
       "    <tr>\n",
       "      <th>324</th>\n",
       "      <td>0.186652</td>\n",
       "      <td>0.950958</td>\n",
       "      <td>0.537422</td>\n",
       "      <td>0.160140</td>\n",
       "      <td>0.637587</td>\n",
       "    </tr>\n",
       "    <tr>\n",
       "      <th>325</th>\n",
       "      <td>0.159024</td>\n",
       "      <td>0.710382</td>\n",
       "      <td>0.467881</td>\n",
       "      <td>0.707575</td>\n",
       "      <td>0.895405</td>\n",
       "    </tr>\n",
       "    <tr>\n",
       "      <th>326</th>\n",
       "      <td>0.0614061</td>\n",
       "      <td>0.652730</td>\n",
       "      <td>0.264550</td>\n",
       "      <td>0.306984</td>\n",
       "      <td>0.929692</td>\n",
       "    </tr>\n",
       "    <tr>\n",
       "      <th>327</th>\n",
       "      <td>0.239365</td>\n",
       "      <td>0.433811</td>\n",
       "      <td>0.426601</td>\n",
       "      <td>0.286161</td>\n",
       "      <td>0.814986</td>\n",
       "    </tr>\n",
       "    <tr>\n",
       "      <th>329</th>\n",
       "      <td>0.00528551</td>\n",
       "      <td>0.162951</td>\n",
       "      <td>0.024661</td>\n",
       "      <td>0.784161</td>\n",
       "      <td>0.812931</td>\n",
       "    </tr>\n",
       "  </tbody>\n",
       "</table>\n",
       "<p>96 rows × 5 columns</p>\n",
       "</div>"
      ],
      "text/plain": [
       "              A         B         C         D         E\n",
       "1      0.196192  0.257675  0.466249  0.370161  0.216306\n",
       "16     0.222269  0.688945  0.604013  0.035000  0.849866\n",
       "21     0.100378  0.195051  0.759510  0.575367  0.814817\n",
       "22     0.169351  0.581578  0.360512  0.767378  0.076582\n",
       "36     0.238138  0.762544  0.859564  0.565792  0.701636\n",
       "..          ...       ...       ...       ...       ...\n",
       "324    0.186652  0.950958  0.537422  0.160140  0.637587\n",
       "325    0.159024  0.710382  0.467881  0.707575  0.895405\n",
       "326   0.0614061  0.652730  0.264550  0.306984  0.929692\n",
       "327    0.239365  0.433811  0.426601  0.286161  0.814986\n",
       "329  0.00528551  0.162951  0.024661  0.784161  0.812931\n",
       "\n",
       "[96 rows x 5 columns]"
      ]
     },
     "execution_count": 55,
     "metadata": {},
     "output_type": "execute_result"
    }
   ],
   "source": [
    "newdf.loc[(newdf['A']<0.3)] # It will display only those rows where the value in the column A will be less than 0.3"
   ]
  },
  {
   "cell_type": "code",
   "execution_count": 56,
   "metadata": {},
   "outputs": [
    {
     "data": {
      "text/html": [
       "<div>\n",
       "<style scoped>\n",
       "    .dataframe tbody tr th:only-of-type {\n",
       "        vertical-align: middle;\n",
       "    }\n",
       "\n",
       "    .dataframe tbody tr th {\n",
       "        vertical-align: top;\n",
       "    }\n",
       "\n",
       "    .dataframe thead th {\n",
       "        text-align: right;\n",
       "    }\n",
       "</style>\n",
       "<table border=\"1\" class=\"dataframe\">\n",
       "  <thead>\n",
       "    <tr style=\"text-align: right;\">\n",
       "      <th></th>\n",
       "      <th>A</th>\n",
       "      <th>B</th>\n",
       "      <th>C</th>\n",
       "      <th>D</th>\n",
       "      <th>E</th>\n",
       "    </tr>\n",
       "  </thead>\n",
       "  <tbody>\n",
       "    <tr>\n",
       "      <th>1</th>\n",
       "      <td>0.196192</td>\n",
       "      <td>0.257675</td>\n",
       "      <td>0.466249</td>\n",
       "      <td>0.370161</td>\n",
       "      <td>0.216306</td>\n",
       "    </tr>\n",
       "    <tr>\n",
       "      <th>16</th>\n",
       "      <td>0.222269</td>\n",
       "      <td>0.688945</td>\n",
       "      <td>0.604013</td>\n",
       "      <td>0.035000</td>\n",
       "      <td>0.849866</td>\n",
       "    </tr>\n",
       "    <tr>\n",
       "      <th>21</th>\n",
       "      <td>0.100378</td>\n",
       "      <td>0.195051</td>\n",
       "      <td>0.759510</td>\n",
       "      <td>0.575367</td>\n",
       "      <td>0.814817</td>\n",
       "    </tr>\n",
       "    <tr>\n",
       "      <th>22</th>\n",
       "      <td>0.169351</td>\n",
       "      <td>0.581578</td>\n",
       "      <td>0.360512</td>\n",
       "      <td>0.767378</td>\n",
       "      <td>0.076582</td>\n",
       "    </tr>\n",
       "    <tr>\n",
       "      <th>36</th>\n",
       "      <td>0.238138</td>\n",
       "      <td>0.762544</td>\n",
       "      <td>0.859564</td>\n",
       "      <td>0.565792</td>\n",
       "      <td>0.701636</td>\n",
       "    </tr>\n",
       "    <tr>\n",
       "      <th>38</th>\n",
       "      <td>0.06885</td>\n",
       "      <td>0.106326</td>\n",
       "      <td>0.349079</td>\n",
       "      <td>0.913138</td>\n",
       "      <td>0.028705</td>\n",
       "    </tr>\n",
       "    <tr>\n",
       "      <th>41</th>\n",
       "      <td>0.282344</td>\n",
       "      <td>0.798042</td>\n",
       "      <td>0.847716</td>\n",
       "      <td>0.664045</td>\n",
       "      <td>0.499224</td>\n",
       "    </tr>\n",
       "    <tr>\n",
       "      <th>55</th>\n",
       "      <td>0.225009</td>\n",
       "      <td>0.860971</td>\n",
       "      <td>0.773826</td>\n",
       "      <td>0.666267</td>\n",
       "      <td>0.149620</td>\n",
       "    </tr>\n",
       "    <tr>\n",
       "      <th>56</th>\n",
       "      <td>0.0539964</td>\n",
       "      <td>0.823970</td>\n",
       "      <td>0.953990</td>\n",
       "      <td>0.537973</td>\n",
       "      <td>0.843636</td>\n",
       "    </tr>\n",
       "    <tr>\n",
       "      <th>63</th>\n",
       "      <td>0.174398</td>\n",
       "      <td>0.596076</td>\n",
       "      <td>0.732846</td>\n",
       "      <td>0.865938</td>\n",
       "      <td>0.269417</td>\n",
       "    </tr>\n",
       "    <tr>\n",
       "      <th>65</th>\n",
       "      <td>0.1604</td>\n",
       "      <td>0.482521</td>\n",
       "      <td>0.972380</td>\n",
       "      <td>0.148836</td>\n",
       "      <td>0.387985</td>\n",
       "    </tr>\n",
       "    <tr>\n",
       "      <th>67</th>\n",
       "      <td>0.16216</td>\n",
       "      <td>0.243146</td>\n",
       "      <td>0.904122</td>\n",
       "      <td>0.878889</td>\n",
       "      <td>0.700780</td>\n",
       "    </tr>\n",
       "    <tr>\n",
       "      <th>68</th>\n",
       "      <td>0.246284</td>\n",
       "      <td>0.750794</td>\n",
       "      <td>0.814211</td>\n",
       "      <td>0.754097</td>\n",
       "      <td>0.042858</td>\n",
       "    </tr>\n",
       "    <tr>\n",
       "      <th>70</th>\n",
       "      <td>0.177607</td>\n",
       "      <td>0.397105</td>\n",
       "      <td>0.965603</td>\n",
       "      <td>0.475236</td>\n",
       "      <td>0.598974</td>\n",
       "    </tr>\n",
       "    <tr>\n",
       "      <th>84</th>\n",
       "      <td>0.203546</td>\n",
       "      <td>0.513586</td>\n",
       "      <td>0.355375</td>\n",
       "      <td>0.940664</td>\n",
       "      <td>0.275540</td>\n",
       "    </tr>\n",
       "    <tr>\n",
       "      <th>86</th>\n",
       "      <td>0.299799</td>\n",
       "      <td>0.124531</td>\n",
       "      <td>0.398362</td>\n",
       "      <td>0.938341</td>\n",
       "      <td>0.488499</td>\n",
       "    </tr>\n",
       "    <tr>\n",
       "      <th>87</th>\n",
       "      <td>0.160865</td>\n",
       "      <td>0.586201</td>\n",
       "      <td>0.386159</td>\n",
       "      <td>0.211235</td>\n",
       "      <td>0.735575</td>\n",
       "    </tr>\n",
       "    <tr>\n",
       "      <th>98</th>\n",
       "      <td>0.067304</td>\n",
       "      <td>0.965133</td>\n",
       "      <td>0.851376</td>\n",
       "      <td>0.325834</td>\n",
       "      <td>0.350703</td>\n",
       "    </tr>\n",
       "    <tr>\n",
       "      <th>101</th>\n",
       "      <td>0.0723127</td>\n",
       "      <td>0.541203</td>\n",
       "      <td>0.651526</td>\n",
       "      <td>0.210621</td>\n",
       "      <td>0.144013</td>\n",
       "    </tr>\n",
       "    <tr>\n",
       "      <th>104</th>\n",
       "      <td>0.216122</td>\n",
       "      <td>0.867028</td>\n",
       "      <td>0.889122</td>\n",
       "      <td>0.254957</td>\n",
       "      <td>0.919245</td>\n",
       "    </tr>\n",
       "    <tr>\n",
       "      <th>106</th>\n",
       "      <td>0.114452</td>\n",
       "      <td>0.335325</td>\n",
       "      <td>0.731984</td>\n",
       "      <td>0.384189</td>\n",
       "      <td>0.556571</td>\n",
       "    </tr>\n",
       "    <tr>\n",
       "      <th>115</th>\n",
       "      <td>0.191945</td>\n",
       "      <td>0.800423</td>\n",
       "      <td>0.436410</td>\n",
       "      <td>0.388874</td>\n",
       "      <td>0.218015</td>\n",
       "    </tr>\n",
       "    <tr>\n",
       "      <th>117</th>\n",
       "      <td>0.226969</td>\n",
       "      <td>0.134400</td>\n",
       "      <td>0.833023</td>\n",
       "      <td>0.237457</td>\n",
       "      <td>0.755763</td>\n",
       "    </tr>\n",
       "    <tr>\n",
       "      <th>124</th>\n",
       "      <td>0.0867839</td>\n",
       "      <td>0.124997</td>\n",
       "      <td>0.410302</td>\n",
       "      <td>0.642810</td>\n",
       "      <td>0.084795</td>\n",
       "    </tr>\n",
       "    <tr>\n",
       "      <th>127</th>\n",
       "      <td>0.0361012</td>\n",
       "      <td>0.528953</td>\n",
       "      <td>0.878342</td>\n",
       "      <td>0.141776</td>\n",
       "      <td>0.358296</td>\n",
       "    </tr>\n",
       "    <tr>\n",
       "      <th>140</th>\n",
       "      <td>0.113412</td>\n",
       "      <td>0.614810</td>\n",
       "      <td>0.844418</td>\n",
       "      <td>0.763514</td>\n",
       "      <td>0.603131</td>\n",
       "    </tr>\n",
       "    <tr>\n",
       "      <th>156</th>\n",
       "      <td>0.0833276</td>\n",
       "      <td>0.557219</td>\n",
       "      <td>0.872636</td>\n",
       "      <td>0.287266</td>\n",
       "      <td>0.540422</td>\n",
       "    </tr>\n",
       "    <tr>\n",
       "      <th>160</th>\n",
       "      <td>0.118874</td>\n",
       "      <td>0.642945</td>\n",
       "      <td>0.602610</td>\n",
       "      <td>0.005895</td>\n",
       "      <td>0.574870</td>\n",
       "    </tr>\n",
       "    <tr>\n",
       "      <th>171</th>\n",
       "      <td>0.290847</td>\n",
       "      <td>0.138440</td>\n",
       "      <td>0.525093</td>\n",
       "      <td>0.573727</td>\n",
       "      <td>0.905442</td>\n",
       "    </tr>\n",
       "    <tr>\n",
       "      <th>180</th>\n",
       "      <td>0.205534</td>\n",
       "      <td>0.202724</td>\n",
       "      <td>0.764461</td>\n",
       "      <td>0.244557</td>\n",
       "      <td>0.735603</td>\n",
       "    </tr>\n",
       "    <tr>\n",
       "      <th>183</th>\n",
       "      <td>0.146617</td>\n",
       "      <td>0.933943</td>\n",
       "      <td>0.995431</td>\n",
       "      <td>0.423216</td>\n",
       "      <td>0.268838</td>\n",
       "    </tr>\n",
       "    <tr>\n",
       "      <th>186</th>\n",
       "      <td>0.0209368</td>\n",
       "      <td>0.485017</td>\n",
       "      <td>0.904810</td>\n",
       "      <td>0.085734</td>\n",
       "      <td>0.835195</td>\n",
       "    </tr>\n",
       "    <tr>\n",
       "      <th>187</th>\n",
       "      <td>0.290734</td>\n",
       "      <td>0.357566</td>\n",
       "      <td>0.366200</td>\n",
       "      <td>0.627779</td>\n",
       "      <td>0.176940</td>\n",
       "    </tr>\n",
       "    <tr>\n",
       "      <th>194</th>\n",
       "      <td>0.120455</td>\n",
       "      <td>0.587694</td>\n",
       "      <td>0.377909</td>\n",
       "      <td>0.986038</td>\n",
       "      <td>0.791706</td>\n",
       "    </tr>\n",
       "    <tr>\n",
       "      <th>202</th>\n",
       "      <td>0.229704</td>\n",
       "      <td>0.261530</td>\n",
       "      <td>0.867599</td>\n",
       "      <td>0.275471</td>\n",
       "      <td>0.478492</td>\n",
       "    </tr>\n",
       "    <tr>\n",
       "      <th>204</th>\n",
       "      <td>0.204185</td>\n",
       "      <td>0.963101</td>\n",
       "      <td>0.996509</td>\n",
       "      <td>0.063464</td>\n",
       "      <td>0.528735</td>\n",
       "    </tr>\n",
       "    <tr>\n",
       "      <th>211</th>\n",
       "      <td>0.109614</td>\n",
       "      <td>0.980815</td>\n",
       "      <td>0.330362</td>\n",
       "      <td>0.794950</td>\n",
       "      <td>0.679267</td>\n",
       "    </tr>\n",
       "    <tr>\n",
       "      <th>216</th>\n",
       "      <td>0.221323</td>\n",
       "      <td>0.488142</td>\n",
       "      <td>0.657151</td>\n",
       "      <td>0.555878</td>\n",
       "      <td>0.395259</td>\n",
       "    </tr>\n",
       "    <tr>\n",
       "      <th>220</th>\n",
       "      <td>0.146276</td>\n",
       "      <td>0.652330</td>\n",
       "      <td>0.925734</td>\n",
       "      <td>0.910577</td>\n",
       "      <td>0.343650</td>\n",
       "    </tr>\n",
       "    <tr>\n",
       "      <th>223</th>\n",
       "      <td>0.291803</td>\n",
       "      <td>0.081826</td>\n",
       "      <td>0.535380</td>\n",
       "      <td>0.978446</td>\n",
       "      <td>0.017553</td>\n",
       "    </tr>\n",
       "    <tr>\n",
       "      <th>230</th>\n",
       "      <td>0.218966</td>\n",
       "      <td>0.588561</td>\n",
       "      <td>0.906375</td>\n",
       "      <td>0.382788</td>\n",
       "      <td>0.926415</td>\n",
       "    </tr>\n",
       "    <tr>\n",
       "      <th>232</th>\n",
       "      <td>0.265477</td>\n",
       "      <td>0.765101</td>\n",
       "      <td>0.704462</td>\n",
       "      <td>0.240738</td>\n",
       "      <td>0.239764</td>\n",
       "    </tr>\n",
       "    <tr>\n",
       "      <th>236</th>\n",
       "      <td>0.256761</td>\n",
       "      <td>0.552137</td>\n",
       "      <td>0.502543</td>\n",
       "      <td>0.446721</td>\n",
       "      <td>0.702435</td>\n",
       "    </tr>\n",
       "    <tr>\n",
       "      <th>245</th>\n",
       "      <td>0.293129</td>\n",
       "      <td>0.465821</td>\n",
       "      <td>0.361149</td>\n",
       "      <td>0.225260</td>\n",
       "      <td>0.275836</td>\n",
       "    </tr>\n",
       "    <tr>\n",
       "      <th>246</th>\n",
       "      <td>0.279256</td>\n",
       "      <td>0.998694</td>\n",
       "      <td>0.889554</td>\n",
       "      <td>0.153609</td>\n",
       "      <td>0.886336</td>\n",
       "    </tr>\n",
       "    <tr>\n",
       "      <th>250</th>\n",
       "      <td>0.0906612</td>\n",
       "      <td>0.541473</td>\n",
       "      <td>0.431478</td>\n",
       "      <td>0.783730</td>\n",
       "      <td>0.363383</td>\n",
       "    </tr>\n",
       "    <tr>\n",
       "      <th>258</th>\n",
       "      <td>0.176765</td>\n",
       "      <td>0.699932</td>\n",
       "      <td>0.586137</td>\n",
       "      <td>0.606263</td>\n",
       "      <td>0.328591</td>\n",
       "    </tr>\n",
       "    <tr>\n",
       "      <th>264</th>\n",
       "      <td>0.104935</td>\n",
       "      <td>0.520964</td>\n",
       "      <td>0.939961</td>\n",
       "      <td>0.010062</td>\n",
       "      <td>0.592060</td>\n",
       "    </tr>\n",
       "    <tr>\n",
       "      <th>276</th>\n",
       "      <td>0.17972</td>\n",
       "      <td>0.195909</td>\n",
       "      <td>0.717352</td>\n",
       "      <td>0.552850</td>\n",
       "      <td>0.939845</td>\n",
       "    </tr>\n",
       "    <tr>\n",
       "      <th>279</th>\n",
       "      <td>0.191432</td>\n",
       "      <td>0.065336</td>\n",
       "      <td>0.441234</td>\n",
       "      <td>0.908817</td>\n",
       "      <td>0.034188</td>\n",
       "    </tr>\n",
       "    <tr>\n",
       "      <th>293</th>\n",
       "      <td>0.171258</td>\n",
       "      <td>0.780099</td>\n",
       "      <td>0.336430</td>\n",
       "      <td>0.863380</td>\n",
       "      <td>0.363412</td>\n",
       "    </tr>\n",
       "    <tr>\n",
       "      <th>296</th>\n",
       "      <td>0.146439</td>\n",
       "      <td>0.827548</td>\n",
       "      <td>0.321057</td>\n",
       "      <td>0.059617</td>\n",
       "      <td>0.775904</td>\n",
       "    </tr>\n",
       "    <tr>\n",
       "      <th>304</th>\n",
       "      <td>0.0988205</td>\n",
       "      <td>0.342338</td>\n",
       "      <td>0.785154</td>\n",
       "      <td>0.901390</td>\n",
       "      <td>0.274042</td>\n",
       "    </tr>\n",
       "    <tr>\n",
       "      <th>310</th>\n",
       "      <td>0.0904221</td>\n",
       "      <td>0.715030</td>\n",
       "      <td>0.600213</td>\n",
       "      <td>0.819642</td>\n",
       "      <td>0.108866</td>\n",
       "    </tr>\n",
       "    <tr>\n",
       "      <th>324</th>\n",
       "      <td>0.186652</td>\n",
       "      <td>0.950958</td>\n",
       "      <td>0.537422</td>\n",
       "      <td>0.160140</td>\n",
       "      <td>0.637587</td>\n",
       "    </tr>\n",
       "    <tr>\n",
       "      <th>325</th>\n",
       "      <td>0.159024</td>\n",
       "      <td>0.710382</td>\n",
       "      <td>0.467881</td>\n",
       "      <td>0.707575</td>\n",
       "      <td>0.895405</td>\n",
       "    </tr>\n",
       "    <tr>\n",
       "      <th>327</th>\n",
       "      <td>0.239365</td>\n",
       "      <td>0.433811</td>\n",
       "      <td>0.426601</td>\n",
       "      <td>0.286161</td>\n",
       "      <td>0.814986</td>\n",
       "    </tr>\n",
       "  </tbody>\n",
       "</table>\n",
       "</div>"
      ],
      "text/plain": [
       "             A         B         C         D         E\n",
       "1     0.196192  0.257675  0.466249  0.370161  0.216306\n",
       "16    0.222269  0.688945  0.604013  0.035000  0.849866\n",
       "21    0.100378  0.195051  0.759510  0.575367  0.814817\n",
       "22    0.169351  0.581578  0.360512  0.767378  0.076582\n",
       "36    0.238138  0.762544  0.859564  0.565792  0.701636\n",
       "38     0.06885  0.106326  0.349079  0.913138  0.028705\n",
       "41    0.282344  0.798042  0.847716  0.664045  0.499224\n",
       "55    0.225009  0.860971  0.773826  0.666267  0.149620\n",
       "56   0.0539964  0.823970  0.953990  0.537973  0.843636\n",
       "63    0.174398  0.596076  0.732846  0.865938  0.269417\n",
       "65      0.1604  0.482521  0.972380  0.148836  0.387985\n",
       "67     0.16216  0.243146  0.904122  0.878889  0.700780\n",
       "68    0.246284  0.750794  0.814211  0.754097  0.042858\n",
       "70    0.177607  0.397105  0.965603  0.475236  0.598974\n",
       "84    0.203546  0.513586  0.355375  0.940664  0.275540\n",
       "86    0.299799  0.124531  0.398362  0.938341  0.488499\n",
       "87    0.160865  0.586201  0.386159  0.211235  0.735575\n",
       "98    0.067304  0.965133  0.851376  0.325834  0.350703\n",
       "101  0.0723127  0.541203  0.651526  0.210621  0.144013\n",
       "104   0.216122  0.867028  0.889122  0.254957  0.919245\n",
       "106   0.114452  0.335325  0.731984  0.384189  0.556571\n",
       "115   0.191945  0.800423  0.436410  0.388874  0.218015\n",
       "117   0.226969  0.134400  0.833023  0.237457  0.755763\n",
       "124  0.0867839  0.124997  0.410302  0.642810  0.084795\n",
       "127  0.0361012  0.528953  0.878342  0.141776  0.358296\n",
       "140   0.113412  0.614810  0.844418  0.763514  0.603131\n",
       "156  0.0833276  0.557219  0.872636  0.287266  0.540422\n",
       "160   0.118874  0.642945  0.602610  0.005895  0.574870\n",
       "171   0.290847  0.138440  0.525093  0.573727  0.905442\n",
       "180   0.205534  0.202724  0.764461  0.244557  0.735603\n",
       "183   0.146617  0.933943  0.995431  0.423216  0.268838\n",
       "186  0.0209368  0.485017  0.904810  0.085734  0.835195\n",
       "187   0.290734  0.357566  0.366200  0.627779  0.176940\n",
       "194   0.120455  0.587694  0.377909  0.986038  0.791706\n",
       "202   0.229704  0.261530  0.867599  0.275471  0.478492\n",
       "204   0.204185  0.963101  0.996509  0.063464  0.528735\n",
       "211   0.109614  0.980815  0.330362  0.794950  0.679267\n",
       "216   0.221323  0.488142  0.657151  0.555878  0.395259\n",
       "220   0.146276  0.652330  0.925734  0.910577  0.343650\n",
       "223   0.291803  0.081826  0.535380  0.978446  0.017553\n",
       "230   0.218966  0.588561  0.906375  0.382788  0.926415\n",
       "232   0.265477  0.765101  0.704462  0.240738  0.239764\n",
       "236   0.256761  0.552137  0.502543  0.446721  0.702435\n",
       "245   0.293129  0.465821  0.361149  0.225260  0.275836\n",
       "246   0.279256  0.998694  0.889554  0.153609  0.886336\n",
       "250  0.0906612  0.541473  0.431478  0.783730  0.363383\n",
       "258   0.176765  0.699932  0.586137  0.606263  0.328591\n",
       "264   0.104935  0.520964  0.939961  0.010062  0.592060\n",
       "276    0.17972  0.195909  0.717352  0.552850  0.939845\n",
       "279   0.191432  0.065336  0.441234  0.908817  0.034188\n",
       "293   0.171258  0.780099  0.336430  0.863380  0.363412\n",
       "296   0.146439  0.827548  0.321057  0.059617  0.775904\n",
       "304  0.0988205  0.342338  0.785154  0.901390  0.274042\n",
       "310  0.0904221  0.715030  0.600213  0.819642  0.108866\n",
       "324   0.186652  0.950958  0.537422  0.160140  0.637587\n",
       "325   0.159024  0.710382  0.467881  0.707575  0.895405\n",
       "327   0.239365  0.433811  0.426601  0.286161  0.814986"
      ]
     },
     "execution_count": 56,
     "metadata": {},
     "output_type": "execute_result"
    }
   ],
   "source": [
    "newdf.loc[(newdf['A']<0.3) & (newdf['C']>0.3)] # Adding another query"
   ]
  },
  {
   "cell_type": "markdown",
   "metadata": {},
   "source": [
    "##### iloc function:-"
   ]
  },
  {
   "cell_type": "code",
   "execution_count": 57,
   "metadata": {},
   "outputs": [
    {
     "data": {
      "text/html": [
       "<div>\n",
       "<style scoped>\n",
       "    .dataframe tbody tr th:only-of-type {\n",
       "        vertical-align: middle;\n",
       "    }\n",
       "\n",
       "    .dataframe tbody tr th {\n",
       "        vertical-align: top;\n",
       "    }\n",
       "\n",
       "    .dataframe thead th {\n",
       "        text-align: right;\n",
       "    }\n",
       "</style>\n",
       "<table border=\"1\" class=\"dataframe\">\n",
       "  <thead>\n",
       "    <tr style=\"text-align: right;\">\n",
       "      <th></th>\n",
       "      <th>A</th>\n",
       "      <th>B</th>\n",
       "      <th>C</th>\n",
       "      <th>D</th>\n",
       "      <th>E</th>\n",
       "    </tr>\n",
       "  </thead>\n",
       "  <tbody>\n",
       "    <tr>\n",
       "      <th>0</th>\n",
       "      <td>654</td>\n",
       "      <td>123.000000</td>\n",
       "      <td>0.799468</td>\n",
       "      <td>0.445330</td>\n",
       "      <td>0.125610</td>\n",
       "    </tr>\n",
       "    <tr>\n",
       "      <th>1</th>\n",
       "      <td>0.196192</td>\n",
       "      <td>0.257675</td>\n",
       "      <td>0.466249</td>\n",
       "      <td>0.370161</td>\n",
       "      <td>0.216306</td>\n",
       "    </tr>\n",
       "  </tbody>\n",
       "</table>\n",
       "</div>"
      ],
      "text/plain": [
       "          A           B         C         D         E\n",
       "0       654  123.000000  0.799468  0.445330  0.125610\n",
       "1  0.196192    0.257675  0.466249  0.370161  0.216306"
      ]
     },
     "execution_count": 57,
     "metadata": {},
     "output_type": "execute_result"
    }
   ],
   "source": [
    "newdf.head(2)"
   ]
  },
  {
   "cell_type": "code",
   "execution_count": 58,
   "metadata": {},
   "outputs": [
    {
     "data": {
      "text/plain": [
       "0.12561035910525775"
      ]
     },
     "execution_count": 58,
     "metadata": {},
     "output_type": "execute_result"
    }
   ],
   "source": [
    "newdf.iloc[0, 4] # Used to count through index and not the name of the column or row"
   ]
  },
  {
   "cell_type": "code",
   "execution_count": 59,
   "metadata": {},
   "outputs": [
    {
     "data": {
      "text/html": [
       "<div>\n",
       "<style scoped>\n",
       "    .dataframe tbody tr th:only-of-type {\n",
       "        vertical-align: middle;\n",
       "    }\n",
       "\n",
       "    .dataframe tbody tr th {\n",
       "        vertical-align: top;\n",
       "    }\n",
       "\n",
       "    .dataframe thead th {\n",
       "        text-align: right;\n",
       "    }\n",
       "</style>\n",
       "<table border=\"1\" class=\"dataframe\">\n",
       "  <thead>\n",
       "    <tr style=\"text-align: right;\">\n",
       "      <th></th>\n",
       "      <th>B</th>\n",
       "      <th>C</th>\n",
       "    </tr>\n",
       "  </thead>\n",
       "  <tbody>\n",
       "    <tr>\n",
       "      <th>0</th>\n",
       "      <td>123.000000</td>\n",
       "      <td>0.799468</td>\n",
       "    </tr>\n",
       "    <tr>\n",
       "      <th>5</th>\n",
       "      <td>0.854612</td>\n",
       "      <td>0.124824</td>\n",
       "    </tr>\n",
       "  </tbody>\n",
       "</table>\n",
       "</div>"
      ],
      "text/plain": [
       "            B         C\n",
       "0  123.000000  0.799468\n",
       "5    0.854612  0.124824"
      ]
     },
     "execution_count": 59,
     "metadata": {},
     "output_type": "execute_result"
    }
   ],
   "source": [
    "newdf.iloc[[0, 5], [1, 2]]"
   ]
  },
  {
   "cell_type": "code",
   "execution_count": 60,
   "metadata": {},
   "outputs": [
    {
     "data": {
      "text/html": [
       "<div>\n",
       "<style scoped>\n",
       "    .dataframe tbody tr th:only-of-type {\n",
       "        vertical-align: middle;\n",
       "    }\n",
       "\n",
       "    .dataframe tbody tr th {\n",
       "        vertical-align: top;\n",
       "    }\n",
       "\n",
       "    .dataframe thead th {\n",
       "        text-align: right;\n",
       "    }\n",
       "</style>\n",
       "<table border=\"1\" class=\"dataframe\">\n",
       "  <thead>\n",
       "    <tr style=\"text-align: right;\">\n",
       "      <th></th>\n",
       "      <th>B</th>\n",
       "      <th>C</th>\n",
       "      <th>E</th>\n",
       "    </tr>\n",
       "  </thead>\n",
       "  <tbody>\n",
       "    <tr>\n",
       "      <th>0</th>\n",
       "      <td>123.000000</td>\n",
       "      <td>0.799468</td>\n",
       "      <td>0.125610</td>\n",
       "    </tr>\n",
       "    <tr>\n",
       "      <th>1</th>\n",
       "      <td>0.257675</td>\n",
       "      <td>0.466249</td>\n",
       "      <td>0.216306</td>\n",
       "    </tr>\n",
       "    <tr>\n",
       "      <th>2</th>\n",
       "      <td>0.854923</td>\n",
       "      <td>0.747695</td>\n",
       "      <td>0.593235</td>\n",
       "    </tr>\n",
       "    <tr>\n",
       "      <th>3</th>\n",
       "      <td>0.095186</td>\n",
       "      <td>0.469506</td>\n",
       "      <td>0.824789</td>\n",
       "    </tr>\n",
       "    <tr>\n",
       "      <th>4</th>\n",
       "      <td>0.167799</td>\n",
       "      <td>0.226230</td>\n",
       "      <td>0.776482</td>\n",
       "    </tr>\n",
       "    <tr>\n",
       "      <th>...</th>\n",
       "      <td>...</td>\n",
       "      <td>...</td>\n",
       "      <td>...</td>\n",
       "    </tr>\n",
       "    <tr>\n",
       "      <th>329</th>\n",
       "      <td>0.162951</td>\n",
       "      <td>0.024661</td>\n",
       "      <td>0.812931</td>\n",
       "    </tr>\n",
       "    <tr>\n",
       "      <th>330</th>\n",
       "      <td>0.722828</td>\n",
       "      <td>0.556670</td>\n",
       "      <td>0.217997</td>\n",
       "    </tr>\n",
       "    <tr>\n",
       "      <th>331</th>\n",
       "      <td>0.699448</td>\n",
       "      <td>0.037722</td>\n",
       "      <td>0.606209</td>\n",
       "    </tr>\n",
       "    <tr>\n",
       "      <th>332</th>\n",
       "      <td>0.829182</td>\n",
       "      <td>0.103994</td>\n",
       "      <td>0.796611</td>\n",
       "    </tr>\n",
       "    <tr>\n",
       "      <th>333</th>\n",
       "      <td>0.806880</td>\n",
       "      <td>0.536806</td>\n",
       "      <td>0.830568</td>\n",
       "    </tr>\n",
       "  </tbody>\n",
       "</table>\n",
       "<p>334 rows × 3 columns</p>\n",
       "</div>"
      ],
      "text/plain": [
       "              B         C         E\n",
       "0    123.000000  0.799468  0.125610\n",
       "1      0.257675  0.466249  0.216306\n",
       "2      0.854923  0.747695  0.593235\n",
       "3      0.095186  0.469506  0.824789\n",
       "4      0.167799  0.226230  0.776482\n",
       "..          ...       ...       ...\n",
       "329    0.162951  0.024661  0.812931\n",
       "330    0.722828  0.556670  0.217997\n",
       "331    0.699448  0.037722  0.606209\n",
       "332    0.829182  0.103994  0.796611\n",
       "333    0.806880  0.536806  0.830568\n",
       "\n",
       "[334 rows x 3 columns]"
      ]
     },
     "execution_count": 60,
     "metadata": {},
     "output_type": "execute_result"
    }
   ],
   "source": [
    "newdf.drop(['A', 'D'], axis=1) # This will not change the real dataframe\n",
    "# newdf.drop(['A', 'D'], axis=1, inplace=True) # But this will change it"
   ]
  },
  {
   "cell_type": "code",
   "execution_count": 61,
   "metadata": {},
   "outputs": [],
   "source": [
    "newdf.drop([5, 7], axis=0, inplace=True)"
   ]
  },
  {
   "cell_type": "code",
   "execution_count": 62,
   "metadata": {},
   "outputs": [
    {
     "data": {
      "text/html": [
       "<div>\n",
       "<style scoped>\n",
       "    .dataframe tbody tr th:only-of-type {\n",
       "        vertical-align: middle;\n",
       "    }\n",
       "\n",
       "    .dataframe tbody tr th {\n",
       "        vertical-align: top;\n",
       "    }\n",
       "\n",
       "    .dataframe thead th {\n",
       "        text-align: right;\n",
       "    }\n",
       "</style>\n",
       "<table border=\"1\" class=\"dataframe\">\n",
       "  <thead>\n",
       "    <tr style=\"text-align: right;\">\n",
       "      <th></th>\n",
       "      <th>A</th>\n",
       "      <th>B</th>\n",
       "      <th>C</th>\n",
       "      <th>D</th>\n",
       "      <th>E</th>\n",
       "    </tr>\n",
       "  </thead>\n",
       "  <tbody>\n",
       "    <tr>\n",
       "      <th>0</th>\n",
       "      <td>654</td>\n",
       "      <td>123.000000</td>\n",
       "      <td>0.799468</td>\n",
       "      <td>0.445330</td>\n",
       "      <td>0.125610</td>\n",
       "    </tr>\n",
       "    <tr>\n",
       "      <th>1</th>\n",
       "      <td>0.196192</td>\n",
       "      <td>0.257675</td>\n",
       "      <td>0.466249</td>\n",
       "      <td>0.370161</td>\n",
       "      <td>0.216306</td>\n",
       "    </tr>\n",
       "    <tr>\n",
       "      <th>2</th>\n",
       "      <td>0.93918</td>\n",
       "      <td>0.854923</td>\n",
       "      <td>0.747695</td>\n",
       "      <td>0.284269</td>\n",
       "      <td>0.593235</td>\n",
       "    </tr>\n",
       "    <tr>\n",
       "      <th>3</th>\n",
       "      <td>0.720312</td>\n",
       "      <td>0.095186</td>\n",
       "      <td>0.469506</td>\n",
       "      <td>0.764790</td>\n",
       "      <td>0.824789</td>\n",
       "    </tr>\n",
       "    <tr>\n",
       "      <th>4</th>\n",
       "      <td>0.814585</td>\n",
       "      <td>0.167799</td>\n",
       "      <td>0.226230</td>\n",
       "      <td>0.310206</td>\n",
       "      <td>0.776482</td>\n",
       "    </tr>\n",
       "    <tr>\n",
       "      <th>6</th>\n",
       "      <td>0.793365</td>\n",
       "      <td>0.472106</td>\n",
       "      <td>0.278886</td>\n",
       "      <td>0.717241</td>\n",
       "      <td>0.675286</td>\n",
       "    </tr>\n",
       "    <tr>\n",
       "      <th>8</th>\n",
       "      <td>0.325547</td>\n",
       "      <td>0.681585</td>\n",
       "      <td>0.585608</td>\n",
       "      <td>0.678848</td>\n",
       "      <td>0.543631</td>\n",
       "    </tr>\n",
       "    <tr>\n",
       "      <th>9</th>\n",
       "      <td>0.805782</td>\n",
       "      <td>0.677104</td>\n",
       "      <td>0.606982</td>\n",
       "      <td>0.842723</td>\n",
       "      <td>0.181878</td>\n",
       "    </tr>\n",
       "  </tbody>\n",
       "</table>\n",
       "</div>"
      ],
      "text/plain": [
       "          A           B         C         D         E\n",
       "0       654  123.000000  0.799468  0.445330  0.125610\n",
       "1  0.196192    0.257675  0.466249  0.370161  0.216306\n",
       "2   0.93918    0.854923  0.747695  0.284269  0.593235\n",
       "3  0.720312    0.095186  0.469506  0.764790  0.824789\n",
       "4  0.814585    0.167799  0.226230  0.310206  0.776482\n",
       "6  0.793365    0.472106  0.278886  0.717241  0.675286\n",
       "8  0.325547    0.681585  0.585608  0.678848  0.543631\n",
       "9  0.805782    0.677104  0.606982  0.842723  0.181878"
      ]
     },
     "execution_count": 62,
     "metadata": {},
     "output_type": "execute_result"
    }
   ],
   "source": [
    "newdf.head(8)"
   ]
  },
  {
   "cell_type": "code",
   "execution_count": 63,
   "metadata": {},
   "outputs": [],
   "source": [
    "# newdf.reset_index() # This will reset the indices, but this also adds a column index\n",
    "# To remove that column,\n",
    "newdf.reset_index(drop=True, inplace=True)"
   ]
  },
  {
   "cell_type": "code",
   "execution_count": 64,
   "metadata": {},
   "outputs": [
    {
     "data": {
      "text/plain": [
       "0      False\n",
       "1      False\n",
       "2      False\n",
       "3      False\n",
       "4      False\n",
       "       ...  \n",
       "327    False\n",
       "328    False\n",
       "329    False\n",
       "330    False\n",
       "331    False\n",
       "Name: B, Length: 332, dtype: bool"
      ]
     },
     "execution_count": 64,
     "metadata": {},
     "output_type": "execute_result"
    }
   ],
   "source": [
    "newdf['B'].isnull() # This will return a bullean whether a value is null or not"
   ]
  },
  {
   "cell_type": "code",
   "execution_count": 65,
   "metadata": {},
   "outputs": [],
   "source": [
    "# newdf['B'] = None   # This not the good way to set the value\n",
    "newdf.loc[:, ['B']] = None"
   ]
  },
  {
   "cell_type": "code",
   "execution_count": 66,
   "metadata": {},
   "outputs": [
    {
     "data": {
      "text/html": [
       "<div>\n",
       "<style scoped>\n",
       "    .dataframe tbody tr th:only-of-type {\n",
       "        vertical-align: middle;\n",
       "    }\n",
       "\n",
       "    .dataframe tbody tr th {\n",
       "        vertical-align: top;\n",
       "    }\n",
       "\n",
       "    .dataframe thead th {\n",
       "        text-align: right;\n",
       "    }\n",
       "</style>\n",
       "<table border=\"1\" class=\"dataframe\">\n",
       "  <thead>\n",
       "    <tr style=\"text-align: right;\">\n",
       "      <th></th>\n",
       "      <th>A</th>\n",
       "      <th>B</th>\n",
       "      <th>C</th>\n",
       "      <th>D</th>\n",
       "      <th>E</th>\n",
       "    </tr>\n",
       "  </thead>\n",
       "  <tbody>\n",
       "    <tr>\n",
       "      <th>0</th>\n",
       "      <td>654</td>\n",
       "      <td>None</td>\n",
       "      <td>0.799468</td>\n",
       "      <td>0.445330</td>\n",
       "      <td>0.125610</td>\n",
       "    </tr>\n",
       "    <tr>\n",
       "      <th>1</th>\n",
       "      <td>0.196192</td>\n",
       "      <td>None</td>\n",
       "      <td>0.466249</td>\n",
       "      <td>0.370161</td>\n",
       "      <td>0.216306</td>\n",
       "    </tr>\n",
       "    <tr>\n",
       "      <th>2</th>\n",
       "      <td>0.93918</td>\n",
       "      <td>None</td>\n",
       "      <td>0.747695</td>\n",
       "      <td>0.284269</td>\n",
       "      <td>0.593235</td>\n",
       "    </tr>\n",
       "  </tbody>\n",
       "</table>\n",
       "</div>"
      ],
      "text/plain": [
       "          A     B         C         D         E\n",
       "0       654  None  0.799468  0.445330  0.125610\n",
       "1  0.196192  None  0.466249  0.370161  0.216306\n",
       "2   0.93918  None  0.747695  0.284269  0.593235"
      ]
     },
     "execution_count": 66,
     "metadata": {},
     "output_type": "execute_result"
    }
   ],
   "source": [
    "newdf.head(3)"
   ]
  },
  {
   "cell_type": "code",
   "execution_count": 67,
   "metadata": {},
   "outputs": [
    {
     "data": {
      "text/plain": [
       "0      True\n",
       "1      True\n",
       "2      True\n",
       "3      True\n",
       "4      True\n",
       "       ... \n",
       "327    True\n",
       "328    True\n",
       "329    True\n",
       "330    True\n",
       "331    True\n",
       "Name: B, Length: 332, dtype: bool"
      ]
     },
     "execution_count": 67,
     "metadata": {},
     "output_type": "execute_result"
    }
   ],
   "source": [
    "newdf['B'].isnull()"
   ]
  },
  {
   "cell_type": "markdown",
   "metadata": {},
   "source": [
    "##### Some other functions:-"
   ]
  },
  {
   "cell_type": "code",
   "execution_count": 68,
   "metadata": {},
   "outputs": [],
   "source": [
    "df = pd.DataFrame({\"name\": ['Alfred', 'Batman', 'Alfred'],\n",
    "                  \"toy\": [np.nan, 'Batmboile', 'Bullwhip'],\n",
    "                  \"born\": [pd.NaT, pd.Timestamp(\"1940-04-25\"), pd.NaT]})"
   ]
  },
  {
   "cell_type": "code",
   "execution_count": 69,
   "metadata": {},
   "outputs": [
    {
     "data": {
      "text/html": [
       "<div>\n",
       "<style scoped>\n",
       "    .dataframe tbody tr th:only-of-type {\n",
       "        vertical-align: middle;\n",
       "    }\n",
       "\n",
       "    .dataframe tbody tr th {\n",
       "        vertical-align: top;\n",
       "    }\n",
       "\n",
       "    .dataframe thead th {\n",
       "        text-align: right;\n",
       "    }\n",
       "</style>\n",
       "<table border=\"1\" class=\"dataframe\">\n",
       "  <thead>\n",
       "    <tr style=\"text-align: right;\">\n",
       "      <th></th>\n",
       "      <th>name</th>\n",
       "      <th>toy</th>\n",
       "      <th>born</th>\n",
       "    </tr>\n",
       "  </thead>\n",
       "  <tbody>\n",
       "    <tr>\n",
       "      <th>0</th>\n",
       "      <td>Alfred</td>\n",
       "      <td>NaN</td>\n",
       "      <td>NaT</td>\n",
       "    </tr>\n",
       "    <tr>\n",
       "      <th>1</th>\n",
       "      <td>Batman</td>\n",
       "      <td>Batmboile</td>\n",
       "      <td>1940-04-25</td>\n",
       "    </tr>\n",
       "    <tr>\n",
       "      <th>2</th>\n",
       "      <td>Alfred</td>\n",
       "      <td>Bullwhip</td>\n",
       "      <td>NaT</td>\n",
       "    </tr>\n",
       "  </tbody>\n",
       "</table>\n",
       "</div>"
      ],
      "text/plain": [
       "     name        toy       born\n",
       "0  Alfred        NaN        NaT\n",
       "1  Batman  Batmboile 1940-04-25\n",
       "2  Alfred   Bullwhip        NaT"
      ]
     },
     "execution_count": 69,
     "metadata": {},
     "output_type": "execute_result"
    }
   ],
   "source": [
    "df.head()"
   ]
  },
  {
   "cell_type": "code",
   "execution_count": 70,
   "metadata": {},
   "outputs": [
    {
     "data": {
      "text/html": [
       "<div>\n",
       "<style scoped>\n",
       "    .dataframe tbody tr th:only-of-type {\n",
       "        vertical-align: middle;\n",
       "    }\n",
       "\n",
       "    .dataframe tbody tr th {\n",
       "        vertical-align: top;\n",
       "    }\n",
       "\n",
       "    .dataframe thead th {\n",
       "        text-align: right;\n",
       "    }\n",
       "</style>\n",
       "<table border=\"1\" class=\"dataframe\">\n",
       "  <thead>\n",
       "    <tr style=\"text-align: right;\">\n",
       "      <th></th>\n",
       "      <th>name</th>\n",
       "      <th>toy</th>\n",
       "      <th>born</th>\n",
       "    </tr>\n",
       "  </thead>\n",
       "  <tbody>\n",
       "    <tr>\n",
       "      <th>1</th>\n",
       "      <td>Batman</td>\n",
       "      <td>Batmboile</td>\n",
       "      <td>1940-04-25</td>\n",
       "    </tr>\n",
       "  </tbody>\n",
       "</table>\n",
       "</div>"
      ],
      "text/plain": [
       "     name        toy       born\n",
       "1  Batman  Batmboile 1940-04-25"
      ]
     },
     "execution_count": 70,
     "metadata": {},
     "output_type": "execute_result"
    }
   ],
   "source": [
    "df.dropna()"
   ]
  },
  {
   "cell_type": "code",
   "execution_count": 71,
   "metadata": {},
   "outputs": [
    {
     "data": {
      "text/html": [
       "<div>\n",
       "<style scoped>\n",
       "    .dataframe tbody tr th:only-of-type {\n",
       "        vertical-align: middle;\n",
       "    }\n",
       "\n",
       "    .dataframe tbody tr th {\n",
       "        vertical-align: top;\n",
       "    }\n",
       "\n",
       "    .dataframe thead th {\n",
       "        text-align: right;\n",
       "    }\n",
       "</style>\n",
       "<table border=\"1\" class=\"dataframe\">\n",
       "  <thead>\n",
       "    <tr style=\"text-align: right;\">\n",
       "      <th></th>\n",
       "      <th>name</th>\n",
       "      <th>toy</th>\n",
       "      <th>born</th>\n",
       "    </tr>\n",
       "  </thead>\n",
       "  <tbody>\n",
       "    <tr>\n",
       "      <th>0</th>\n",
       "      <td>Alfred</td>\n",
       "      <td>NaN</td>\n",
       "      <td>NaT</td>\n",
       "    </tr>\n",
       "    <tr>\n",
       "      <th>1</th>\n",
       "      <td>Batman</td>\n",
       "      <td>Batmboile</td>\n",
       "      <td>1940-04-25</td>\n",
       "    </tr>\n",
       "    <tr>\n",
       "      <th>2</th>\n",
       "      <td>Alfred</td>\n",
       "      <td>Bullwhip</td>\n",
       "      <td>NaT</td>\n",
       "    </tr>\n",
       "  </tbody>\n",
       "</table>\n",
       "</div>"
      ],
      "text/plain": [
       "     name        toy       born\n",
       "0  Alfred        NaN        NaT\n",
       "1  Batman  Batmboile 1940-04-25\n",
       "2  Alfred   Bullwhip        NaT"
      ]
     },
     "execution_count": 71,
     "metadata": {},
     "output_type": "execute_result"
    }
   ],
   "source": [
    "df.dropna(how='all') # The row and column will not be removed till all values of that row/column is na\n",
    "# For column, also give the axis"
   ]
  },
  {
   "cell_type": "code",
   "execution_count": 72,
   "metadata": {},
   "outputs": [
    {
     "data": {
      "text/html": [
       "<div>\n",
       "<style scoped>\n",
       "    .dataframe tbody tr th:only-of-type {\n",
       "        vertical-align: middle;\n",
       "    }\n",
       "\n",
       "    .dataframe tbody tr th {\n",
       "        vertical-align: top;\n",
       "    }\n",
       "\n",
       "    .dataframe thead th {\n",
       "        text-align: right;\n",
       "    }\n",
       "</style>\n",
       "<table border=\"1\" class=\"dataframe\">\n",
       "  <thead>\n",
       "    <tr style=\"text-align: right;\">\n",
       "      <th></th>\n",
       "      <th>name</th>\n",
       "      <th>toy</th>\n",
       "      <th>born</th>\n",
       "    </tr>\n",
       "  </thead>\n",
       "  <tbody>\n",
       "    <tr>\n",
       "      <th>0</th>\n",
       "      <td>Alfred</td>\n",
       "      <td>NaN</td>\n",
       "      <td>NaT</td>\n",
       "    </tr>\n",
       "    <tr>\n",
       "      <th>1</th>\n",
       "      <td>Batman</td>\n",
       "      <td>Batmboile</td>\n",
       "      <td>1940-04-25</td>\n",
       "    </tr>\n",
       "  </tbody>\n",
       "</table>\n",
       "</div>"
      ],
      "text/plain": [
       "     name        toy       born\n",
       "0  Alfred        NaN        NaT\n",
       "1  Batman  Batmboile 1940-04-25"
      ]
     },
     "execution_count": 72,
     "metadata": {},
     "output_type": "execute_result"
    }
   ],
   "source": [
    "df.drop_duplicates(subset=['name']) # This does not take axis as an argument"
   ]
  },
  {
   "cell_type": "code",
   "execution_count": 73,
   "metadata": {},
   "outputs": [
    {
     "data": {
      "text/html": [
       "<div>\n",
       "<style scoped>\n",
       "    .dataframe tbody tr th:only-of-type {\n",
       "        vertical-align: middle;\n",
       "    }\n",
       "\n",
       "    .dataframe tbody tr th {\n",
       "        vertical-align: top;\n",
       "    }\n",
       "\n",
       "    .dataframe thead th {\n",
       "        text-align: right;\n",
       "    }\n",
       "</style>\n",
       "<table border=\"1\" class=\"dataframe\">\n",
       "  <thead>\n",
       "    <tr style=\"text-align: right;\">\n",
       "      <th></th>\n",
       "      <th>name</th>\n",
       "      <th>toy</th>\n",
       "      <th>born</th>\n",
       "    </tr>\n",
       "  </thead>\n",
       "  <tbody>\n",
       "    <tr>\n",
       "      <th>0</th>\n",
       "      <td>Alfred</td>\n",
       "      <td>NaN</td>\n",
       "      <td>NaT</td>\n",
       "    </tr>\n",
       "    <tr>\n",
       "      <th>1</th>\n",
       "      <td>Batman</td>\n",
       "      <td>Batmboile</td>\n",
       "      <td>1940-04-25</td>\n",
       "    </tr>\n",
       "  </tbody>\n",
       "</table>\n",
       "</div>"
      ],
      "text/plain": [
       "     name        toy       born\n",
       "0  Alfred        NaN        NaT\n",
       "1  Batman  Batmboile 1940-04-25"
      ]
     },
     "execution_count": 73,
     "metadata": {},
     "output_type": "execute_result"
    }
   ],
   "source": [
    "df.drop_duplicates(subset=['name'], keep='first')"
   ]
  },
  {
   "cell_type": "code",
   "execution_count": 74,
   "metadata": {},
   "outputs": [
    {
     "data": {
      "text/html": [
       "<div>\n",
       "<style scoped>\n",
       "    .dataframe tbody tr th:only-of-type {\n",
       "        vertical-align: middle;\n",
       "    }\n",
       "\n",
       "    .dataframe tbody tr th {\n",
       "        vertical-align: top;\n",
       "    }\n",
       "\n",
       "    .dataframe thead th {\n",
       "        text-align: right;\n",
       "    }\n",
       "</style>\n",
       "<table border=\"1\" class=\"dataframe\">\n",
       "  <thead>\n",
       "    <tr style=\"text-align: right;\">\n",
       "      <th></th>\n",
       "      <th>name</th>\n",
       "      <th>toy</th>\n",
       "      <th>born</th>\n",
       "    </tr>\n",
       "  </thead>\n",
       "  <tbody>\n",
       "    <tr>\n",
       "      <th>1</th>\n",
       "      <td>Batman</td>\n",
       "      <td>Batmboile</td>\n",
       "      <td>1940-04-25</td>\n",
       "    </tr>\n",
       "    <tr>\n",
       "      <th>2</th>\n",
       "      <td>Alfred</td>\n",
       "      <td>Bullwhip</td>\n",
       "      <td>NaT</td>\n",
       "    </tr>\n",
       "  </tbody>\n",
       "</table>\n",
       "</div>"
      ],
      "text/plain": [
       "     name        toy       born\n",
       "1  Batman  Batmboile 1940-04-25\n",
       "2  Alfred   Bullwhip        NaT"
      ]
     },
     "execution_count": 74,
     "metadata": {},
     "output_type": "execute_result"
    }
   ],
   "source": [
    "df.drop_duplicates(subset=['name'], keep='last')"
   ]
  },
  {
   "cell_type": "code",
   "execution_count": 75,
   "metadata": {},
   "outputs": [
    {
     "data": {
      "text/html": [
       "<div>\n",
       "<style scoped>\n",
       "    .dataframe tbody tr th:only-of-type {\n",
       "        vertical-align: middle;\n",
       "    }\n",
       "\n",
       "    .dataframe tbody tr th {\n",
       "        vertical-align: top;\n",
       "    }\n",
       "\n",
       "    .dataframe thead th {\n",
       "        text-align: right;\n",
       "    }\n",
       "</style>\n",
       "<table border=\"1\" class=\"dataframe\">\n",
       "  <thead>\n",
       "    <tr style=\"text-align: right;\">\n",
       "      <th></th>\n",
       "      <th>name</th>\n",
       "      <th>toy</th>\n",
       "      <th>born</th>\n",
       "    </tr>\n",
       "  </thead>\n",
       "  <tbody>\n",
       "    <tr>\n",
       "      <th>1</th>\n",
       "      <td>Batman</td>\n",
       "      <td>Batmboile</td>\n",
       "      <td>1940-04-25</td>\n",
       "    </tr>\n",
       "  </tbody>\n",
       "</table>\n",
       "</div>"
      ],
      "text/plain": [
       "     name        toy       born\n",
       "1  Batman  Batmboile 1940-04-25"
      ]
     },
     "execution_count": 75,
     "metadata": {},
     "output_type": "execute_result"
    }
   ],
   "source": [
    "df.drop_duplicates(subset=['name'], keep=False)"
   ]
  },
  {
   "cell_type": "code",
   "execution_count": 76,
   "metadata": {},
   "outputs": [
    {
     "data": {
      "text/plain": [
       "(3, 3)"
      ]
     },
     "execution_count": 76,
     "metadata": {},
     "output_type": "execute_result"
    }
   ],
   "source": [
    "df.shape"
   ]
  },
  {
   "cell_type": "code",
   "execution_count": 77,
   "metadata": {},
   "outputs": [
    {
     "name": "stdout",
     "output_type": "stream",
     "text": [
      "<class 'pandas.core.frame.DataFrame'>\n",
      "RangeIndex: 3 entries, 0 to 2\n",
      "Data columns (total 3 columns):\n",
      " #   Column  Non-Null Count  Dtype         \n",
      "---  ------  --------------  -----         \n",
      " 0   name    3 non-null      object        \n",
      " 1   toy     2 non-null      object        \n",
      " 2   born    1 non-null      datetime64[ns]\n",
      "dtypes: datetime64[ns](1), object(2)\n",
      "memory usage: 200.0+ bytes\n"
     ]
    }
   ],
   "source": [
    "df.info()"
   ]
  },
  {
   "cell_type": "code",
   "execution_count": 78,
   "metadata": {},
   "outputs": [
    {
     "data": {
      "text/plain": [
       "Alfred    2\n",
       "Batman    1\n",
       "Name: name, dtype: int64"
      ]
     },
     "execution_count": 78,
     "metadata": {},
     "output_type": "execute_result"
    }
   ],
   "source": [
    "df['name'].value_counts(dropna=False)"
   ]
  },
  {
   "cell_type": "code",
   "execution_count": 79,
   "metadata": {},
   "outputs": [
    {
     "data": {
      "text/html": [
       "<div>\n",
       "<style scoped>\n",
       "    .dataframe tbody tr th:only-of-type {\n",
       "        vertical-align: middle;\n",
       "    }\n",
       "\n",
       "    .dataframe tbody tr th {\n",
       "        vertical-align: top;\n",
       "    }\n",
       "\n",
       "    .dataframe thead th {\n",
       "        text-align: right;\n",
       "    }\n",
       "</style>\n",
       "<table border=\"1\" class=\"dataframe\">\n",
       "  <thead>\n",
       "    <tr style=\"text-align: right;\">\n",
       "      <th></th>\n",
       "      <th>name</th>\n",
       "      <th>toy</th>\n",
       "      <th>born</th>\n",
       "    </tr>\n",
       "  </thead>\n",
       "  <tbody>\n",
       "    <tr>\n",
       "      <th>0</th>\n",
       "      <td>True</td>\n",
       "      <td>False</td>\n",
       "      <td>False</td>\n",
       "    </tr>\n",
       "    <tr>\n",
       "      <th>1</th>\n",
       "      <td>True</td>\n",
       "      <td>True</td>\n",
       "      <td>True</td>\n",
       "    </tr>\n",
       "    <tr>\n",
       "      <th>2</th>\n",
       "      <td>True</td>\n",
       "      <td>True</td>\n",
       "      <td>False</td>\n",
       "    </tr>\n",
       "  </tbody>\n",
       "</table>\n",
       "</div>"
      ],
      "text/plain": [
       "   name    toy   born\n",
       "0  True  False  False\n",
       "1  True   True   True\n",
       "2  True   True  False"
      ]
     },
     "execution_count": 79,
     "metadata": {},
     "output_type": "execute_result"
    }
   ],
   "source": [
    "df.notnull()"
   ]
  },
  {
   "cell_type": "markdown",
   "metadata": {},
   "source": [
    "Statistics:-"
   ]
  },
  {
   "cell_type": "code",
   "execution_count": 80,
   "metadata": {},
   "outputs": [],
   "source": [
    "df = pd.DataFrame({0:[1, 2, 3], 1:[4, 5, 6], 2:[7, 8, 9]})"
   ]
  },
  {
   "cell_type": "code",
   "execution_count": 81,
   "metadata": {},
   "outputs": [
    {
     "data": {
      "text/html": [
       "<div>\n",
       "<style scoped>\n",
       "    .dataframe tbody tr th:only-of-type {\n",
       "        vertical-align: middle;\n",
       "    }\n",
       "\n",
       "    .dataframe tbody tr th {\n",
       "        vertical-align: top;\n",
       "    }\n",
       "\n",
       "    .dataframe thead th {\n",
       "        text-align: right;\n",
       "    }\n",
       "</style>\n",
       "<table border=\"1\" class=\"dataframe\">\n",
       "  <thead>\n",
       "    <tr style=\"text-align: right;\">\n",
       "      <th></th>\n",
       "      <th>0</th>\n",
       "      <th>1</th>\n",
       "      <th>2</th>\n",
       "    </tr>\n",
       "  </thead>\n",
       "  <tbody>\n",
       "    <tr>\n",
       "      <th>0</th>\n",
       "      <td>1</td>\n",
       "      <td>4</td>\n",
       "      <td>7</td>\n",
       "    </tr>\n",
       "    <tr>\n",
       "      <th>1</th>\n",
       "      <td>2</td>\n",
       "      <td>5</td>\n",
       "      <td>8</td>\n",
       "    </tr>\n",
       "    <tr>\n",
       "      <th>2</th>\n",
       "      <td>3</td>\n",
       "      <td>6</td>\n",
       "      <td>9</td>\n",
       "    </tr>\n",
       "  </tbody>\n",
       "</table>\n",
       "</div>"
      ],
      "text/plain": [
       "   0  1  2\n",
       "0  1  4  7\n",
       "1  2  5  8\n",
       "2  3  6  9"
      ]
     },
     "execution_count": 81,
     "metadata": {},
     "output_type": "execute_result"
    }
   ],
   "source": [
    "df"
   ]
  },
  {
   "cell_type": "code",
   "execution_count": 82,
   "metadata": {},
   "outputs": [
    {
     "data": {
      "text/plain": [
       "0    2.0\n",
       "1    5.0\n",
       "2    8.0\n",
       "dtype: float64"
      ]
     },
     "execution_count": 82,
     "metadata": {},
     "output_type": "execute_result"
    }
   ],
   "source": [
    "df.mean()"
   ]
  },
  {
   "cell_type": "code",
   "execution_count": 83,
   "metadata": {},
   "outputs": [
    {
     "data": {
      "text/html": [
       "<div>\n",
       "<style scoped>\n",
       "    .dataframe tbody tr th:only-of-type {\n",
       "        vertical-align: middle;\n",
       "    }\n",
       "\n",
       "    .dataframe tbody tr th {\n",
       "        vertical-align: top;\n",
       "    }\n",
       "\n",
       "    .dataframe thead th {\n",
       "        text-align: right;\n",
       "    }\n",
       "</style>\n",
       "<table border=\"1\" class=\"dataframe\">\n",
       "  <thead>\n",
       "    <tr style=\"text-align: right;\">\n",
       "      <th></th>\n",
       "      <th>0</th>\n",
       "      <th>1</th>\n",
       "      <th>2</th>\n",
       "    </tr>\n",
       "  </thead>\n",
       "  <tbody>\n",
       "    <tr>\n",
       "      <th>0</th>\n",
       "      <td>1.0</td>\n",
       "      <td>1.0</td>\n",
       "      <td>1.0</td>\n",
       "    </tr>\n",
       "    <tr>\n",
       "      <th>1</th>\n",
       "      <td>1.0</td>\n",
       "      <td>1.0</td>\n",
       "      <td>1.0</td>\n",
       "    </tr>\n",
       "    <tr>\n",
       "      <th>2</th>\n",
       "      <td>1.0</td>\n",
       "      <td>1.0</td>\n",
       "      <td>1.0</td>\n",
       "    </tr>\n",
       "  </tbody>\n",
       "</table>\n",
       "</div>"
      ],
      "text/plain": [
       "     0    1    2\n",
       "0  1.0  1.0  1.0\n",
       "1  1.0  1.0  1.0\n",
       "2  1.0  1.0  1.0"
      ]
     },
     "execution_count": 83,
     "metadata": {},
     "output_type": "execute_result"
    }
   ],
   "source": [
    "df.corr()"
   ]
  },
  {
   "cell_type": "code",
   "execution_count": 84,
   "metadata": {},
   "outputs": [
    {
     "data": {
      "text/plain": [
       "0    3\n",
       "1    3\n",
       "2    3\n",
       "dtype: int64"
      ]
     },
     "execution_count": 84,
     "metadata": {},
     "output_type": "execute_result"
    }
   ],
   "source": [
    "df.count()"
   ]
  },
  {
   "cell_type": "code",
   "execution_count": 85,
   "metadata": {},
   "outputs": [
    {
     "data": {
      "text/plain": [
       "0    3\n",
       "1    6\n",
       "2    9\n",
       "dtype: int64"
      ]
     },
     "execution_count": 85,
     "metadata": {},
     "output_type": "execute_result"
    }
   ],
   "source": [
    "df.max()"
   ]
  },
  {
   "cell_type": "code",
   "execution_count": 86,
   "metadata": {},
   "outputs": [
    {
     "data": {
      "text/plain": [
       "0    1\n",
       "1    4\n",
       "2    7\n",
       "dtype: int64"
      ]
     },
     "execution_count": 86,
     "metadata": {},
     "output_type": "execute_result"
    }
   ],
   "source": [
    "df.min()"
   ]
  },
  {
   "cell_type": "code",
   "execution_count": 87,
   "metadata": {},
   "outputs": [
    {
     "data": {
      "text/plain": [
       "0    2.0\n",
       "1    5.0\n",
       "2    8.0\n",
       "dtype: float64"
      ]
     },
     "execution_count": 87,
     "metadata": {},
     "output_type": "execute_result"
    }
   ],
   "source": [
    "df.median()"
   ]
  },
  {
   "cell_type": "code",
   "execution_count": 88,
   "metadata": {},
   "outputs": [
    {
     "data": {
      "text/plain": [
       "0    1.0\n",
       "1    1.0\n",
       "2    1.0\n",
       "dtype: float64"
      ]
     },
     "execution_count": 88,
     "metadata": {},
     "output_type": "execute_result"
    }
   ],
   "source": [
    "df.std()"
   ]
  },
  {
   "cell_type": "markdown",
   "metadata": {},
   "source": [
    "### Reading Excel through Pandas:-"
   ]
  },
  {
   "cell_type": "code",
   "execution_count": 89,
   "metadata": {},
   "outputs": [],
   "source": [
    "data = pd.read_excel('Data.xlsx', engine=\"openpyxl\")"
   ]
  },
  {
   "cell_type": "code",
   "execution_count": 90,
   "metadata": {},
   "outputs": [
    {
     "data": {
      "text/html": [
       "<div>\n",
       "<style scoped>\n",
       "    .dataframe tbody tr th:only-of-type {\n",
       "        vertical-align: middle;\n",
       "    }\n",
       "\n",
       "    .dataframe tbody tr th {\n",
       "        vertical-align: top;\n",
       "    }\n",
       "\n",
       "    .dataframe thead th {\n",
       "        text-align: right;\n",
       "    }\n",
       "</style>\n",
       "<table border=\"1\" class=\"dataframe\">\n",
       "  <thead>\n",
       "    <tr style=\"text-align: right;\">\n",
       "      <th></th>\n",
       "      <th>Unnamed: 0</th>\n",
       "      <th>Names2</th>\n",
       "      <th>Markss2</th>\n",
       "      <th>Citys2</th>\n",
       "    </tr>\n",
       "  </thead>\n",
       "  <tbody>\n",
       "    <tr>\n",
       "      <th>0</th>\n",
       "      <td>0</td>\n",
       "      <td>Ayush</td>\n",
       "      <td>25</td>\n",
       "      <td>Ahmedabad</td>\n",
       "    </tr>\n",
       "    <tr>\n",
       "      <th>1</th>\n",
       "      <td>1</td>\n",
       "      <td>Dhairya</td>\n",
       "      <td>23</td>\n",
       "      <td>Delhi</td>\n",
       "    </tr>\n",
       "    <tr>\n",
       "      <th>2</th>\n",
       "      <td>2</td>\n",
       "      <td>Jaimit</td>\n",
       "      <td>22</td>\n",
       "      <td>Hyedrabad</td>\n",
       "    </tr>\n",
       "    <tr>\n",
       "      <th>3</th>\n",
       "      <td>3</td>\n",
       "      <td>Shrey</td>\n",
       "      <td>24</td>\n",
       "      <td>Chicago</td>\n",
       "    </tr>\n",
       "  </tbody>\n",
       "</table>\n",
       "</div>"
      ],
      "text/plain": [
       "   Unnamed: 0   Names2  Markss2     Citys2\n",
       "0           0    Ayush       25  Ahmedabad\n",
       "1           1  Dhairya       23      Delhi\n",
       "2           2   Jaimit       22  Hyedrabad\n",
       "3           3    Shrey       24    Chicago"
      ]
     },
     "execution_count": 90,
     "metadata": {},
     "output_type": "execute_result"
    }
   ],
   "source": [
    "data"
   ]
  },
  {
   "cell_type": "code",
   "execution_count": 91,
   "metadata": {},
   "outputs": [],
   "source": [
    "data = pd.read_excel('Data.xlsx', engine=\"openpyxl\", sheet_name=\"Sheet2\")"
   ]
  },
  {
   "cell_type": "code",
   "execution_count": 92,
   "metadata": {},
   "outputs": [
    {
     "data": {
      "text/html": [
       "<div>\n",
       "<style scoped>\n",
       "    .dataframe tbody tr th:only-of-type {\n",
       "        vertical-align: middle;\n",
       "    }\n",
       "\n",
       "    .dataframe tbody tr th {\n",
       "        vertical-align: top;\n",
       "    }\n",
       "\n",
       "    .dataframe thead th {\n",
       "        text-align: right;\n",
       "    }\n",
       "</style>\n",
       "<table border=\"1\" class=\"dataframe\">\n",
       "  <thead>\n",
       "    <tr style=\"text-align: right;\">\n",
       "      <th></th>\n",
       "      <th>Unnamed: 0</th>\n",
       "      <th>Names2</th>\n",
       "      <th>Markss2</th>\n",
       "      <th>Citys2</th>\n",
       "    </tr>\n",
       "  </thead>\n",
       "  <tbody>\n",
       "    <tr>\n",
       "      <th>0</th>\n",
       "      <td>0</td>\n",
       "      <td>Ayush</td>\n",
       "      <td>25</td>\n",
       "      <td>Ahmedabad</td>\n",
       "    </tr>\n",
       "    <tr>\n",
       "      <th>1</th>\n",
       "      <td>1</td>\n",
       "      <td>Dhairya</td>\n",
       "      <td>23</td>\n",
       "      <td>Delhi</td>\n",
       "    </tr>\n",
       "    <tr>\n",
       "      <th>2</th>\n",
       "      <td>2</td>\n",
       "      <td>Jaimit</td>\n",
       "      <td>22</td>\n",
       "      <td>Hyedrabad</td>\n",
       "    </tr>\n",
       "    <tr>\n",
       "      <th>3</th>\n",
       "      <td>3</td>\n",
       "      <td>Shrey</td>\n",
       "      <td>24</td>\n",
       "      <td>Chicago</td>\n",
       "    </tr>\n",
       "  </tbody>\n",
       "</table>\n",
       "</div>"
      ],
      "text/plain": [
       "   Unnamed: 0   Names2  Markss2     Citys2\n",
       "0           0    Ayush       25  Ahmedabad\n",
       "1           1  Dhairya       23      Delhi\n",
       "2           2   Jaimit       22  Hyedrabad\n",
       "3           3    Shrey       24    Chicago"
      ]
     },
     "execution_count": 92,
     "metadata": {},
     "output_type": "execute_result"
    }
   ],
   "source": [
    "data"
   ]
  },
  {
   "cell_type": "code",
   "execution_count": 93,
   "metadata": {},
   "outputs": [],
   "source": [
    "data.iloc[1,0] = \"Dhairya\""
   ]
  },
  {
   "cell_type": "code",
   "execution_count": 94,
   "metadata": {},
   "outputs": [
    {
     "data": {
      "text/html": [
       "<div>\n",
       "<style scoped>\n",
       "    .dataframe tbody tr th:only-of-type {\n",
       "        vertical-align: middle;\n",
       "    }\n",
       "\n",
       "    .dataframe tbody tr th {\n",
       "        vertical-align: top;\n",
       "    }\n",
       "\n",
       "    .dataframe thead th {\n",
       "        text-align: right;\n",
       "    }\n",
       "</style>\n",
       "<table border=\"1\" class=\"dataframe\">\n",
       "  <thead>\n",
       "    <tr style=\"text-align: right;\">\n",
       "      <th></th>\n",
       "      <th>Unnamed: 0</th>\n",
       "      <th>Names2</th>\n",
       "      <th>Markss2</th>\n",
       "      <th>Citys2</th>\n",
       "    </tr>\n",
       "  </thead>\n",
       "  <tbody>\n",
       "    <tr>\n",
       "      <th>0</th>\n",
       "      <td>0</td>\n",
       "      <td>Ayush</td>\n",
       "      <td>25</td>\n",
       "      <td>Ahmedabad</td>\n",
       "    </tr>\n",
       "    <tr>\n",
       "      <th>1</th>\n",
       "      <td>Dhairya</td>\n",
       "      <td>Dhairya</td>\n",
       "      <td>23</td>\n",
       "      <td>Delhi</td>\n",
       "    </tr>\n",
       "    <tr>\n",
       "      <th>2</th>\n",
       "      <td>2</td>\n",
       "      <td>Jaimit</td>\n",
       "      <td>22</td>\n",
       "      <td>Hyedrabad</td>\n",
       "    </tr>\n",
       "    <tr>\n",
       "      <th>3</th>\n",
       "      <td>3</td>\n",
       "      <td>Shrey</td>\n",
       "      <td>24</td>\n",
       "      <td>Chicago</td>\n",
       "    </tr>\n",
       "  </tbody>\n",
       "</table>\n",
       "</div>"
      ],
      "text/plain": [
       "  Unnamed: 0   Names2  Markss2     Citys2\n",
       "0          0    Ayush       25  Ahmedabad\n",
       "1    Dhairya  Dhairya       23      Delhi\n",
       "2          2   Jaimit       22  Hyedrabad\n",
       "3          3    Shrey       24    Chicago"
      ]
     },
     "execution_count": 94,
     "metadata": {},
     "output_type": "execute_result"
    }
   ],
   "source": [
    "data"
   ]
  },
  {
   "cell_type": "code",
   "execution_count": 95,
   "metadata": {},
   "outputs": [],
   "source": [
    "data.to_excel('Data.xlsx', engine=\"openpyxl\", sheet_name=\"Sheet2\", index=False)"
   ]
  },
  {
   "cell_type": "code",
   "execution_count": null,
   "metadata": {},
   "outputs": [],
   "source": []
  }
 ],
 "metadata": {
  "kernelspec": {
   "display_name": "Python 3",
   "language": "python",
   "name": "python3"
  },
  "language_info": {
   "codemirror_mode": {
    "name": "ipython",
    "version": 3
   },
   "file_extension": ".py",
   "mimetype": "text/x-python",
   "name": "python",
   "nbconvert_exporter": "python",
   "pygments_lexer": "ipython3",
   "version": "3.9.0"
  }
 },
 "nbformat": 4,
 "nbformat_minor": 4
}
